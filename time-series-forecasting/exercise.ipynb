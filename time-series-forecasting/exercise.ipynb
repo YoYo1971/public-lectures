{
  "nbformat": 4,
  "nbformat_minor": 0,
  "metadata": {
    "celltoolbar": "Slideshow",
    "kernelspec": {
      "display_name": "Python 3",
      "language": "python",
      "name": "python3"
    },
    "language_info": {
      "codemirror_mode": {
        "name": "ipython",
        "version": 3
      },
      "file_extension": ".py",
      "mimetype": "text/x-python",
      "name": "python",
      "nbconvert_exporter": "python",
      "pygments_lexer": "ipython3",
      "version": "3.8.6"
    },
    "rise": {
      "enable_chalkboard": true,
      "scroll": true,
      "theme": "white"
    },
    "toc": {
      "base_numbering": 1,
      "nav_menu": {},
      "number_sections": true,
      "sideBar": true,
      "skip_h1_title": true,
      "title_cell": "Table of Contents",
      "title_sidebar": "Contents",
      "toc_cell": false,
      "toc_position": {
        "height": "calc(100% - 180px)",
        "left": "10px",
        "top": "150px",
        "width": "341.333px"
      },
      "toc_section_display": true,
      "toc_window_display": true
    },
    "colab": {
      "name": "time-series-forecasting-with-python.ipynb",
      "provenance": [],
      "include_colab_link": true
    }
  },
  "cells": [
    {
      "cell_type": "markdown",
      "metadata": {
        "id": "view-in-github",
        "colab_type": "text"
      },
      "source": [
        "<a href=\"https://colab.research.google.com/github/jads-nl/public-lectures/blob/main/time-series-forecasting/exercise.ipynb\" target=\"_parent\"><img src=\"https://colab.research.google.com/assets/colab-badge.svg\" alt=\"Open In Colab\"/></a>"
      ]
    },
    {
      "cell_type": "markdown",
      "metadata": {
        "id": "Wfi5INWayGiZ"
      },
      "source": [
        "# Time-series forecasting with Python\n",
        "\n",
        "_This work is licensed under a [Creative Commons BY-SA 4.0 License](http://creativecommons.org/licenses/by-sa/4.0/)_\n",
        "\n",
        "<br><br><br><br>\n",
        "__Daniel Kapitan__<br>\n",
        "`e. d.kapitan@jads.nl`<br>\n",
        "`w. https://kapitan.net`<br>\n",
        "\n",
        "\n",
        "\n",
        "<img style=\"float: left\" src=\"https://github.com/jads-nl/public-lectures/blob/main/logos/jads-gold-250x60.png?raw=true\">"
      ]
    },
    {
      "cell_type": "markdown",
      "metadata": {
        "id": "N0gTGYtpyGig"
      },
      "source": [
        "## FPP2 and Altair\n",
        "\n",
        "- Building on the excellent (and freely available!) [Forecasting: Principles and Practice (2nd edition)](https://otexts.com/fpp2/) by Hyndman and Athanasopoulos, this notebooks presents a number of examples using the following Python libraries:\n",
        "  - [`statsmodels.tsa`](https://www.statsmodels.org/stable/tsa.html) as the basis for time-series analysis\n",
        "  - [`pmdarima`](http://alkaline-ml.com/pmdarima/index.html) which wraps `statsmodels` into a convenient `auto.arima` function like in R\n",
        "  - [`sktime`](https://sktime.org) as the new, unified framework for machine learning in Python\n",
        "- Use [Altair](https://altair-viz.github.io/index.html) for plotting, as an example how to use this library throughout your workflow"
      ]
    },
    {
      "cell_type": "code",
      "metadata": {
        "id": "ozynA9IWyGih",
        "outputId": "53c8787a-cc55-4d7b-fd2c-2810eda2d7c9"
      },
      "source": [
        "import altair as alt\n",
        "import numpy as np\n",
        "import pandas as pd\n",
        "import panel as pn\n",
        "import rdata\n",
        "import requests\n",
        "from sktime.datasets import load_airline\n",
        "from sktime.forecasting.model_selection import temporal_train_test_split\n",
        "from sktime.performance_metrics.forecasting import smape_loss\n",
        "from sktime.utils.plotting import plot_series\n",
        "\n",
        "# https://altair-viz.github.io/user_guide/faq.html#local-filesystem\n",
        "alt.data_transformers.enable(\"json\")\n",
        "\n",
        "# https://towardsdatascience.com/how-to-build-a-time-series-dashboard-in-python-with-panel-altair-and-a-jupyter-notebook-c0ed40f02289\n",
        "alt.renderers.enable(\"default\")\n",
        "pn.extension(\"vega\")\n",
        "\n",
        "\n",
        "def read_rda(url):\n",
        "    \"\"\"Reads .rda file from URL and returns dict with values.\n",
        "    \n",
        "    \"\"\"\n",
        "    r = requests.get(url)\n",
        "    parsed = rdata.parser.parse_data(r.content)\n",
        "    return rdata.conversion.convert(parsed)"
      ],
      "execution_count": null,
      "outputs": [
        {
          "output_type": "display_data",
          "data": {
            "application/javascript": [
              "\n",
              "(function(root) {\n",
              "  function now() {\n",
              "    return new Date();\n",
              "  }\n",
              "\n",
              "  var force = true;\n",
              "\n",
              "  if (typeof root._bokeh_onload_callbacks === \"undefined\" || force === true) {\n",
              "    root._bokeh_onload_callbacks = [];\n",
              "    root._bokeh_is_loading = undefined;\n",
              "  }\n",
              "\n",
              "  if (typeof (root._bokeh_timeout) === \"undefined\" || force === true) {\n",
              "    root._bokeh_timeout = Date.now() + 5000;\n",
              "    root._bokeh_failed_load = false;\n",
              "  }\n",
              "\n",
              "  function run_callbacks() {\n",
              "    try {\n",
              "      root._bokeh_onload_callbacks.forEach(function(callback) {\n",
              "        if (callback != null)\n",
              "          callback();\n",
              "      });\n",
              "    } finally {\n",
              "      delete root._bokeh_onload_callbacks\n",
              "    }\n",
              "    console.debug(\"Bokeh: all callbacks have finished\");\n",
              "  }\n",
              "\n",
              "  function load_libs(css_urls, js_urls, callback) {\n",
              "    if (css_urls == null) css_urls = [];\n",
              "    if (js_urls == null) js_urls = [];\n",
              "\n",
              "    root._bokeh_onload_callbacks.push(callback);\n",
              "    if (root._bokeh_is_loading > 0) {\n",
              "      console.debug(\"Bokeh: BokehJS is being loaded, scheduling callback at\", now());\n",
              "      return null;\n",
              "    }\n",
              "    if (js_urls == null || js_urls.length === 0) {\n",
              "      run_callbacks();\n",
              "      return null;\n",
              "    }\n",
              "    console.debug(\"Bokeh: BokehJS not loaded, scheduling load and callback at\", now());\n",
              "    root._bokeh_is_loading = css_urls.length + js_urls.length;\n",
              "\n",
              "    function on_load() {\n",
              "      root._bokeh_is_loading--;\n",
              "      if (root._bokeh_is_loading === 0) {\n",
              "        console.debug(\"Bokeh: all BokehJS libraries/stylesheets loaded\");\n",
              "        run_callbacks()\n",
              "      }\n",
              "    }\n",
              "\n",
              "    function on_error() {\n",
              "      console.error(\"failed to load \" + url);\n",
              "    }\n",
              "\n",
              "    for (var i = 0; i < css_urls.length; i++) {\n",
              "      var url = css_urls[i];\n",
              "      const element = document.createElement(\"link\");\n",
              "      element.onload = on_load;\n",
              "      element.onerror = on_error;\n",
              "      element.rel = \"stylesheet\";\n",
              "      element.type = \"text/css\";\n",
              "      element.href = url;\n",
              "      console.debug(\"Bokeh: injecting link tag for BokehJS stylesheet: \", url);\n",
              "      document.body.appendChild(element);\n",
              "    }\n",
              "\n",
              "    var skip = [];\n",
              "    if (window.requirejs) {\n",
              "      window.requirejs.config({'baseUrl': 'https://cdn.jsdelivr.net/npm/', 'paths': {'vega-embed': 'vega-embed@6/build/vega-embed.min', 'vega-lite': 'vega-lite@4/build/vega-lite.min', 'vega': 'vega@5/build/vega.min'}});\n",
              "      require([\"vega-embed\", \"vega-lite\", \"vega\"], function(vegaEmbed,vl,vega,) {\n",
              "        window.vegaEmbed = vegaEmbed;\n",
              "        window.vl = vl;\n",
              "        window.vega = vega;\n",
              "      })\n",
              "    }\n",
              "    if (((window['vega'] !== undefined) && (!(window['vega'] instanceof HTMLElement))) || window.requirejs) {\n",
              "      var urls = ['https://cdn.jsdelivr.net/npm/vega@5'];\n",
              "      for (var i = 0; i < urls.length; i++) {\n",
              "        skip.push(urls[i])\n",
              "      }\n",
              "    }\n",
              "    if (((window['vegaLite'] !== undefined) && (!(window['vegaLite'] instanceof HTMLElement))) || window.requirejs) {\n",
              "      var urls = ['https://cdn.jsdelivr.net/npm/vega-lite@4'];\n",
              "      for (var i = 0; i < urls.length; i++) {\n",
              "        skip.push(urls[i])\n",
              "      }\n",
              "    }\n",
              "    if (((window['vegaEmbed'] !== undefined) && (!(window['vegaEmbed'] instanceof HTMLElement))) || window.requirejs) {\n",
              "      var urls = ['https://cdn.jsdelivr.net/npm/vega-embed@6'];\n",
              "      for (var i = 0; i < urls.length; i++) {\n",
              "        skip.push(urls[i])\n",
              "      }\n",
              "    }\n",
              "    for (var i = 0; i < js_urls.length; i++) {\n",
              "      var url = js_urls[i];\n",
              "      if (skip.indexOf(url) >= 0) { on_load(); continue; }\n",
              "      var element = document.createElement('script');\n",
              "      element.onload = on_load;\n",
              "      element.onerror = on_error;\n",
              "      element.async = false;\n",
              "      element.src = url;\n",
              "      console.debug(\"Bokeh: injecting script tag for BokehJS library: \", url);\n",
              "      document.head.appendChild(element);\n",
              "    }\n",
              "\tif (!js_urls.length) {\n",
              "      on_load()\n",
              "    }\n",
              "  };\n",
              "\n",
              "  function inject_raw_css(css) {\n",
              "    const element = document.createElement(\"style\");\n",
              "    element.appendChild(document.createTextNode(css));\n",
              "    document.body.appendChild(element);\n",
              "  }\n",
              "\n",
              "  var js_urls = [\"https://cdn.jsdelivr.net/npm/vega@5\", \"https://cdn.jsdelivr.net/npm/vega-lite@4\", \"https://cdn.jsdelivr.net/npm/vega-embed@6\", \"https://cdn.bokeh.org/bokeh/release/bokeh-2.2.3.min.js\", \"https://cdn.bokeh.org/bokeh/release/bokeh-widgets-2.2.3.min.js\", \"https://cdn.bokeh.org/bokeh/release/bokeh-tables-2.2.3.min.js\", \"https://unpkg.com/@holoviz/panel@^0.10.2/dist/panel.min.js\"];\n",
              "  var css_urls = [\"https://unpkg.com/@holoviz/panel@0.10.2/dist/css/alerts.css\", \"https://unpkg.com/@holoviz/panel@0.10.2/dist/css/card.css\", \"https://unpkg.com/@holoviz/panel@0.10.2/dist/css/dataframe.css\", \"https://unpkg.com/@holoviz/panel@0.10.2/dist/css/widgets.css\", \"https://unpkg.com/@holoviz/panel@0.10.2/dist/css/json.css\", \"https://unpkg.com/@holoviz/panel@0.10.2/dist/css/markdown.css\"];\n",
              "\n",
              "  var inline_js = [\n",
              "    function(Bokeh) {\n",
              "      Bokeh.set_log_level(\"info\");\n",
              "    },\n",
              "    function(Bokeh) {} // ensure no trailing comma for IE\n",
              "  ];\n",
              "\n",
              "  function run_inline_js() {\n",
              "    if ((root.Bokeh !== undefined) || (force === true)) {\n",
              "      for (var i = 0; i < inline_js.length; i++) {\n",
              "        inline_js[i].call(root, root.Bokeh);\n",
              "      }} else if (Date.now() < root._bokeh_timeout) {\n",
              "      setTimeout(run_inline_js, 100);\n",
              "    } else if (!root._bokeh_failed_load) {\n",
              "      console.log(\"Bokeh: BokehJS failed to load within specified timeout.\");\n",
              "      root._bokeh_failed_load = true;\n",
              "    }\n",
              "  }\n",
              "\n",
              "  if (root._bokeh_is_loading === 0) {\n",
              "    console.debug(\"Bokeh: BokehJS loaded, going straight to plotting\");\n",
              "    run_inline_js();\n",
              "  } else {\n",
              "    load_libs(css_urls, js_urls, function() {\n",
              "      console.debug(\"Bokeh: BokehJS plotting callback run at\", now());\n",
              "      run_inline_js();\n",
              "    });\n",
              "  }\n",
              "}(window));"
            ],
            "application/vnd.holoviews_load.v0+json": "\n(function(root) {\n  function now() {\n    return new Date();\n  }\n\n  var force = true;\n\n  if (typeof root._bokeh_onload_callbacks === \"undefined\" || force === true) {\n    root._bokeh_onload_callbacks = [];\n    root._bokeh_is_loading = undefined;\n  }\n\n  if (typeof (root._bokeh_timeout) === \"undefined\" || force === true) {\n    root._bokeh_timeout = Date.now() + 5000;\n    root._bokeh_failed_load = false;\n  }\n\n  function run_callbacks() {\n    try {\n      root._bokeh_onload_callbacks.forEach(function(callback) {\n        if (callback != null)\n          callback();\n      });\n    } finally {\n      delete root._bokeh_onload_callbacks\n    }\n    console.debug(\"Bokeh: all callbacks have finished\");\n  }\n\n  function load_libs(css_urls, js_urls, callback) {\n    if (css_urls == null) css_urls = [];\n    if (js_urls == null) js_urls = [];\n\n    root._bokeh_onload_callbacks.push(callback);\n    if (root._bokeh_is_loading > 0) {\n      console.debug(\"Bokeh: BokehJS is being loaded, scheduling callback at\", now());\n      return null;\n    }\n    if (js_urls == null || js_urls.length === 0) {\n      run_callbacks();\n      return null;\n    }\n    console.debug(\"Bokeh: BokehJS not loaded, scheduling load and callback at\", now());\n    root._bokeh_is_loading = css_urls.length + js_urls.length;\n\n    function on_load() {\n      root._bokeh_is_loading--;\n      if (root._bokeh_is_loading === 0) {\n        console.debug(\"Bokeh: all BokehJS libraries/stylesheets loaded\");\n        run_callbacks()\n      }\n    }\n\n    function on_error() {\n      console.error(\"failed to load \" + url);\n    }\n\n    for (var i = 0; i < css_urls.length; i++) {\n      var url = css_urls[i];\n      const element = document.createElement(\"link\");\n      element.onload = on_load;\n      element.onerror = on_error;\n      element.rel = \"stylesheet\";\n      element.type = \"text/css\";\n      element.href = url;\n      console.debug(\"Bokeh: injecting link tag for BokehJS stylesheet: \", url);\n      document.body.appendChild(element);\n    }\n\n    var skip = [];\n    if (window.requirejs) {\n      window.requirejs.config({'baseUrl': 'https://cdn.jsdelivr.net/npm/', 'paths': {'vega-embed': 'vega-embed@6/build/vega-embed.min', 'vega-lite': 'vega-lite@4/build/vega-lite.min', 'vega': 'vega@5/build/vega.min'}});\n      require([\"vega-embed\", \"vega-lite\", \"vega\"], function(vegaEmbed,vl,vega,) {\n        window.vegaEmbed = vegaEmbed;\n        window.vl = vl;\n        window.vega = vega;\n      })\n    }\n    if (((window['vega'] !== undefined) && (!(window['vega'] instanceof HTMLElement))) || window.requirejs) {\n      var urls = ['https://cdn.jsdelivr.net/npm/vega@5'];\n      for (var i = 0; i < urls.length; i++) {\n        skip.push(urls[i])\n      }\n    }\n    if (((window['vegaLite'] !== undefined) && (!(window['vegaLite'] instanceof HTMLElement))) || window.requirejs) {\n      var urls = ['https://cdn.jsdelivr.net/npm/vega-lite@4'];\n      for (var i = 0; i < urls.length; i++) {\n        skip.push(urls[i])\n      }\n    }\n    if (((window['vegaEmbed'] !== undefined) && (!(window['vegaEmbed'] instanceof HTMLElement))) || window.requirejs) {\n      var urls = ['https://cdn.jsdelivr.net/npm/vega-embed@6'];\n      for (var i = 0; i < urls.length; i++) {\n        skip.push(urls[i])\n      }\n    }\n    for (var i = 0; i < js_urls.length; i++) {\n      var url = js_urls[i];\n      if (skip.indexOf(url) >= 0) { on_load(); continue; }\n      var element = document.createElement('script');\n      element.onload = on_load;\n      element.onerror = on_error;\n      element.async = false;\n      element.src = url;\n      console.debug(\"Bokeh: injecting script tag for BokehJS library: \", url);\n      document.head.appendChild(element);\n    }\n\tif (!js_urls.length) {\n      on_load()\n    }\n  };\n\n  function inject_raw_css(css) {\n    const element = document.createElement(\"style\");\n    element.appendChild(document.createTextNode(css));\n    document.body.appendChild(element);\n  }\n\n  var js_urls = [\"https://cdn.jsdelivr.net/npm/vega@5\", \"https://cdn.jsdelivr.net/npm/vega-lite@4\", \"https://cdn.jsdelivr.net/npm/vega-embed@6\", \"https://cdn.bokeh.org/bokeh/release/bokeh-2.2.3.min.js\", \"https://cdn.bokeh.org/bokeh/release/bokeh-widgets-2.2.3.min.js\", \"https://cdn.bokeh.org/bokeh/release/bokeh-tables-2.2.3.min.js\", \"https://unpkg.com/@holoviz/panel@^0.10.2/dist/panel.min.js\"];\n  var css_urls = [\"https://unpkg.com/@holoviz/panel@0.10.2/dist/css/alerts.css\", \"https://unpkg.com/@holoviz/panel@0.10.2/dist/css/card.css\", \"https://unpkg.com/@holoviz/panel@0.10.2/dist/css/dataframe.css\", \"https://unpkg.com/@holoviz/panel@0.10.2/dist/css/widgets.css\", \"https://unpkg.com/@holoviz/panel@0.10.2/dist/css/json.css\", \"https://unpkg.com/@holoviz/panel@0.10.2/dist/css/markdown.css\"];\n\n  var inline_js = [\n    function(Bokeh) {\n      Bokeh.set_log_level(\"info\");\n    },\n    function(Bokeh) {} // ensure no trailing comma for IE\n  ];\n\n  function run_inline_js() {\n    if ((root.Bokeh !== undefined) || (force === true)) {\n      for (var i = 0; i < inline_js.length; i++) {\n        inline_js[i].call(root, root.Bokeh);\n      }} else if (Date.now() < root._bokeh_timeout) {\n      setTimeout(run_inline_js, 100);\n    } else if (!root._bokeh_failed_load) {\n      console.log(\"Bokeh: BokehJS failed to load within specified timeout.\");\n      root._bokeh_failed_load = true;\n    }\n  }\n\n  if (root._bokeh_is_loading === 0) {\n    console.debug(\"Bokeh: BokehJS loaded, going straight to plotting\");\n    run_inline_js();\n  } else {\n    load_libs(css_urls, js_urls, function() {\n      console.debug(\"Bokeh: BokehJS plotting callback run at\", now());\n      run_inline_js();\n    });\n  }\n}(window));"
          },
          "metadata": {
            "tags": []
          }
        },
        {
          "output_type": "display_data",
          "data": {
            "application/javascript": [
              "\n",
              "if ((window.PyViz === undefined) || (window.PyViz instanceof HTMLElement)) {\n",
              "  window.PyViz = {comms: {}, comm_status:{}, kernels:{}, receivers: {}, plot_index: []}\n",
              "}\n",
              "\n",
              "\n",
              "    function JupyterCommManager() {\n",
              "    }\n",
              "\n",
              "    JupyterCommManager.prototype.register_target = function(plot_id, comm_id, msg_handler) {\n",
              "      if (window.comm_manager || ((window.Jupyter !== undefined) && (Jupyter.notebook.kernel != null))) {\n",
              "        var comm_manager = window.comm_manager || Jupyter.notebook.kernel.comm_manager;\n",
              "        comm_manager.register_target(comm_id, function(comm) {\n",
              "          comm.on_msg(msg_handler);\n",
              "        });\n",
              "      } else if ((plot_id in window.PyViz.kernels) && (window.PyViz.kernels[plot_id])) {\n",
              "        window.PyViz.kernels[plot_id].registerCommTarget(comm_id, function(comm) {\n",
              "          comm.onMsg = msg_handler;\n",
              "        });\n",
              "      } else if (typeof google != 'undefined' && google.colab.kernel != null) {\n",
              "        google.colab.kernel.comms.registerTarget(comm_id, (comm) => {\n",
              "          var messages = comm.messages[Symbol.asyncIterator]();\n",
              "          function processIteratorResult(result) {\n",
              "            var message = result.value;\n",
              "            console.log(message)\n",
              "            var content = {data: message.data, comm_id};\n",
              "            var buffers = []\n",
              "            for (var buffer of message.buffers || []) {\n",
              "              buffers.push(new DataView(buffer))\n",
              "            }\n",
              "            var metadata = message.metadata || {};\n",
              "            var msg = {content, buffers, metadata}\n",
              "            msg_handler(msg);\n",
              "            return messages.next().then(processIteratorResult);\n",
              "          }\n",
              "          return messages.next().then(processIteratorResult);\n",
              "        })\n",
              "      }\n",
              "    }\n",
              "\n",
              "    JupyterCommManager.prototype.get_client_comm = function(plot_id, comm_id, msg_handler) {\n",
              "      if (comm_id in window.PyViz.comms) {\n",
              "        return window.PyViz.comms[comm_id];\n",
              "      } else if (window.comm_manager || ((window.Jupyter !== undefined) && (Jupyter.notebook.kernel != null))) {\n",
              "        var comm_manager = window.comm_manager || Jupyter.notebook.kernel.comm_manager;\n",
              "        var comm = comm_manager.new_comm(comm_id, {}, {}, {}, comm_id);\n",
              "        if (msg_handler) {\n",
              "          comm.on_msg(msg_handler);\n",
              "        }\n",
              "      } else if ((plot_id in window.PyViz.kernels) && (window.PyViz.kernels[plot_id])) {\n",
              "        var comm = window.PyViz.kernels[plot_id].connectToComm(comm_id);\n",
              "        comm.open();\n",
              "        if (msg_handler) {\n",
              "          comm.onMsg = msg_handler;\n",
              "        }\n",
              "      } else if (typeof google != 'undefined' && google.colab.kernel != null) {\n",
              "        var comm_promise = google.colab.kernel.comms.open(comm_id)\n",
              "        comm_promise.then((comm) => {\n",
              "          window.PyViz.comms[comm_id] = comm;\n",
              "          if (msg_handler) {\n",
              "            var messages = comm.messages[Symbol.asyncIterator]();\n",
              "            function processIteratorResult(result) {\n",
              "              var message = result.value;\n",
              "              var content = {data: message.data};\n",
              "              var metadata = message.metadata || {comm_id};\n",
              "              var msg = {content, metadata}\n",
              "              msg_handler(msg);\n",
              "              return messages.next().then(processIteratorResult);\n",
              "            }\n",
              "            return messages.next().then(processIteratorResult);\n",
              "          }\n",
              "        }) \n",
              "        var sendClosure = (data, metadata, buffers, disposeOnDone) => {\n",
              "          return comm_promise.then((comm) => {\n",
              "            comm.send(data, metadata, buffers, disposeOnDone);\n",
              "          });\n",
              "        };\n",
              "        var comm = {\n",
              "          send: sendClosure\n",
              "        };\n",
              "      }\n",
              "      window.PyViz.comms[comm_id] = comm;\n",
              "      return comm;\n",
              "    }\n",
              "    window.PyViz.comm_manager = new JupyterCommManager();\n",
              "    \n",
              "\n",
              "\n",
              "var JS_MIME_TYPE = 'application/javascript';\n",
              "var HTML_MIME_TYPE = 'text/html';\n",
              "var EXEC_MIME_TYPE = 'application/vnd.holoviews_exec.v0+json';\n",
              "var CLASS_NAME = 'output';\n",
              "\n",
              "/**\n",
              " * Render data to the DOM node\n",
              " */\n",
              "function render(props, node) {\n",
              "  var div = document.createElement(\"div\");\n",
              "  var script = document.createElement(\"script\");\n",
              "  node.appendChild(div);\n",
              "  node.appendChild(script);\n",
              "}\n",
              "\n",
              "/**\n",
              " * Handle when a new output is added\n",
              " */\n",
              "function handle_add_output(event, handle) {\n",
              "  var output_area = handle.output_area;\n",
              "  var output = handle.output;\n",
              "  if ((output.data == undefined) || (!output.data.hasOwnProperty(EXEC_MIME_TYPE))) {\n",
              "    return\n",
              "  }\n",
              "  var id = output.metadata[EXEC_MIME_TYPE][\"id\"];\n",
              "  var toinsert = output_area.element.find(\".\" + CLASS_NAME.split(' ')[0]);\n",
              "  if (id !== undefined) {\n",
              "    var nchildren = toinsert.length;\n",
              "    var html_node = toinsert[nchildren-1].children[0];\n",
              "    html_node.innerHTML = output.data[HTML_MIME_TYPE];\n",
              "    var scripts = [];\n",
              "    var nodelist = html_node.querySelectorAll(\"script\");\n",
              "    for (var i in nodelist) {\n",
              "      if (nodelist.hasOwnProperty(i)) {\n",
              "        scripts.push(nodelist[i])\n",
              "      }\n",
              "    }\n",
              "\n",
              "    scripts.forEach( function (oldScript) {\n",
              "      var newScript = document.createElement(\"script\");\n",
              "      var attrs = [];\n",
              "      var nodemap = oldScript.attributes;\n",
              "      for (var j in nodemap) {\n",
              "        if (nodemap.hasOwnProperty(j)) {\n",
              "          attrs.push(nodemap[j])\n",
              "        }\n",
              "      }\n",
              "      attrs.forEach(function(attr) { newScript.setAttribute(attr.name, attr.value) });\n",
              "      newScript.appendChild(document.createTextNode(oldScript.innerHTML));\n",
              "      oldScript.parentNode.replaceChild(newScript, oldScript);\n",
              "    });\n",
              "    if (JS_MIME_TYPE in output.data) {\n",
              "      toinsert[nchildren-1].children[1].textContent = output.data[JS_MIME_TYPE];\n",
              "    }\n",
              "    output_area._hv_plot_id = id;\n",
              "    if ((window.Bokeh !== undefined) && (id in Bokeh.index)) {\n",
              "      window.PyViz.plot_index[id] = Bokeh.index[id];\n",
              "    } else {\n",
              "      window.PyViz.plot_index[id] = null;\n",
              "    }\n",
              "  } else if (output.metadata[EXEC_MIME_TYPE][\"server_id\"] !== undefined) {\n",
              "    var bk_div = document.createElement(\"div\");\n",
              "    bk_div.innerHTML = output.data[HTML_MIME_TYPE];\n",
              "    var script_attrs = bk_div.children[0].attributes;\n",
              "    for (var i = 0; i < script_attrs.length; i++) {\n",
              "      toinsert[toinsert.length - 1].childNodes[1].setAttribute(script_attrs[i].name, script_attrs[i].value);\n",
              "    }\n",
              "    // store reference to server id on output_area\n",
              "    output_area._bokeh_server_id = output.metadata[EXEC_MIME_TYPE][\"server_id\"];\n",
              "  }\n",
              "}\n",
              "\n",
              "/**\n",
              " * Handle when an output is cleared or removed\n",
              " */\n",
              "function handle_clear_output(event, handle) {\n",
              "  var id = handle.cell.output_area._hv_plot_id;\n",
              "  var server_id = handle.cell.output_area._bokeh_server_id;\n",
              "  if (((id === undefined) || !(id in PyViz.plot_index)) && (server_id !== undefined)) { return; }\n",
              "  var comm = window.PyViz.comm_manager.get_client_comm(\"hv-extension-comm\", \"hv-extension-comm\", function () {});\n",
              "  if (server_id !== null) {\n",
              "    comm.send({event_type: 'server_delete', 'id': server_id});\n",
              "    return;\n",
              "  } else if (comm !== null) {\n",
              "    comm.send({event_type: 'delete', 'id': id});\n",
              "  }\n",
              "  delete PyViz.plot_index[id];\n",
              "  if ((window.Bokeh !== undefined) & (id in window.Bokeh.index)) {\n",
              "    var doc = window.Bokeh.index[id].model.document\n",
              "    doc.clear();\n",
              "    const i = window.Bokeh.documents.indexOf(doc);\n",
              "    if (i > -1) {\n",
              "      window.Bokeh.documents.splice(i, 1);\n",
              "    }\n",
              "  }\n",
              "}\n",
              "\n",
              "/**\n",
              " * Handle kernel restart event\n",
              " */\n",
              "function handle_kernel_cleanup(event, handle) {\n",
              "  delete PyViz.comms[\"hv-extension-comm\"];\n",
              "  window.PyViz.plot_index = {}\n",
              "}\n",
              "\n",
              "/**\n",
              " * Handle update_display_data messages\n",
              " */\n",
              "function handle_update_output(event, handle) {\n",
              "  handle_clear_output(event, {cell: {output_area: handle.output_area}})\n",
              "  handle_add_output(event, handle)\n",
              "}\n",
              "\n",
              "function register_renderer(events, OutputArea) {\n",
              "  function append_mime(data, metadata, element) {\n",
              "    // create a DOM node to render to\n",
              "    var toinsert = this.create_output_subarea(\n",
              "    metadata,\n",
              "    CLASS_NAME,\n",
              "    EXEC_MIME_TYPE\n",
              "    );\n",
              "    this.keyboard_manager.register_events(toinsert);\n",
              "    // Render to node\n",
              "    var props = {data: data, metadata: metadata[EXEC_MIME_TYPE]};\n",
              "    render(props, toinsert[0]);\n",
              "    element.append(toinsert);\n",
              "    return toinsert\n",
              "  }\n",
              "\n",
              "  events.on('output_added.OutputArea', handle_add_output);\n",
              "  events.on('output_updated.OutputArea', handle_update_output);\n",
              "  events.on('clear_output.CodeCell', handle_clear_output);\n",
              "  events.on('delete.Cell', handle_clear_output);\n",
              "  events.on('kernel_ready.Kernel', handle_kernel_cleanup);\n",
              "\n",
              "  OutputArea.prototype.register_mime_type(EXEC_MIME_TYPE, append_mime, {\n",
              "    safe: true,\n",
              "    index: 0\n",
              "  });\n",
              "}\n",
              "\n",
              "if (window.Jupyter !== undefined) {\n",
              "  try {\n",
              "    var events = require('base/js/events');\n",
              "    var OutputArea = require('notebook/js/outputarea').OutputArea;\n",
              "    if (OutputArea.prototype.mime_types().indexOf(EXEC_MIME_TYPE) == -1) {\n",
              "      register_renderer(events, OutputArea);\n",
              "    }\n",
              "  } catch(err) {\n",
              "  }\n",
              "}\n"
            ],
            "application/vnd.holoviews_load.v0+json": "\nif ((window.PyViz === undefined) || (window.PyViz instanceof HTMLElement)) {\n  window.PyViz = {comms: {}, comm_status:{}, kernels:{}, receivers: {}, plot_index: []}\n}\n\n\n    function JupyterCommManager() {\n    }\n\n    JupyterCommManager.prototype.register_target = function(plot_id, comm_id, msg_handler) {\n      if (window.comm_manager || ((window.Jupyter !== undefined) && (Jupyter.notebook.kernel != null))) {\n        var comm_manager = window.comm_manager || Jupyter.notebook.kernel.comm_manager;\n        comm_manager.register_target(comm_id, function(comm) {\n          comm.on_msg(msg_handler);\n        });\n      } else if ((plot_id in window.PyViz.kernels) && (window.PyViz.kernels[plot_id])) {\n        window.PyViz.kernels[plot_id].registerCommTarget(comm_id, function(comm) {\n          comm.onMsg = msg_handler;\n        });\n      } else if (typeof google != 'undefined' && google.colab.kernel != null) {\n        google.colab.kernel.comms.registerTarget(comm_id, (comm) => {\n          var messages = comm.messages[Symbol.asyncIterator]();\n          function processIteratorResult(result) {\n            var message = result.value;\n            console.log(message)\n            var content = {data: message.data, comm_id};\n            var buffers = []\n            for (var buffer of message.buffers || []) {\n              buffers.push(new DataView(buffer))\n            }\n            var metadata = message.metadata || {};\n            var msg = {content, buffers, metadata}\n            msg_handler(msg);\n            return messages.next().then(processIteratorResult);\n          }\n          return messages.next().then(processIteratorResult);\n        })\n      }\n    }\n\n    JupyterCommManager.prototype.get_client_comm = function(plot_id, comm_id, msg_handler) {\n      if (comm_id in window.PyViz.comms) {\n        return window.PyViz.comms[comm_id];\n      } else if (window.comm_manager || ((window.Jupyter !== undefined) && (Jupyter.notebook.kernel != null))) {\n        var comm_manager = window.comm_manager || Jupyter.notebook.kernel.comm_manager;\n        var comm = comm_manager.new_comm(comm_id, {}, {}, {}, comm_id);\n        if (msg_handler) {\n          comm.on_msg(msg_handler);\n        }\n      } else if ((plot_id in window.PyViz.kernels) && (window.PyViz.kernels[plot_id])) {\n        var comm = window.PyViz.kernels[plot_id].connectToComm(comm_id);\n        comm.open();\n        if (msg_handler) {\n          comm.onMsg = msg_handler;\n        }\n      } else if (typeof google != 'undefined' && google.colab.kernel != null) {\n        var comm_promise = google.colab.kernel.comms.open(comm_id)\n        comm_promise.then((comm) => {\n          window.PyViz.comms[comm_id] = comm;\n          if (msg_handler) {\n            var messages = comm.messages[Symbol.asyncIterator]();\n            function processIteratorResult(result) {\n              var message = result.value;\n              var content = {data: message.data};\n              var metadata = message.metadata || {comm_id};\n              var msg = {content, metadata}\n              msg_handler(msg);\n              return messages.next().then(processIteratorResult);\n            }\n            return messages.next().then(processIteratorResult);\n          }\n        }) \n        var sendClosure = (data, metadata, buffers, disposeOnDone) => {\n          return comm_promise.then((comm) => {\n            comm.send(data, metadata, buffers, disposeOnDone);\n          });\n        };\n        var comm = {\n          send: sendClosure\n        };\n      }\n      window.PyViz.comms[comm_id] = comm;\n      return comm;\n    }\n    window.PyViz.comm_manager = new JupyterCommManager();\n    \n\n\nvar JS_MIME_TYPE = 'application/javascript';\nvar HTML_MIME_TYPE = 'text/html';\nvar EXEC_MIME_TYPE = 'application/vnd.holoviews_exec.v0+json';\nvar CLASS_NAME = 'output';\n\n/**\n * Render data to the DOM node\n */\nfunction render(props, node) {\n  var div = document.createElement(\"div\");\n  var script = document.createElement(\"script\");\n  node.appendChild(div);\n  node.appendChild(script);\n}\n\n/**\n * Handle when a new output is added\n */\nfunction handle_add_output(event, handle) {\n  var output_area = handle.output_area;\n  var output = handle.output;\n  if ((output.data == undefined) || (!output.data.hasOwnProperty(EXEC_MIME_TYPE))) {\n    return\n  }\n  var id = output.metadata[EXEC_MIME_TYPE][\"id\"];\n  var toinsert = output_area.element.find(\".\" + CLASS_NAME.split(' ')[0]);\n  if (id !== undefined) {\n    var nchildren = toinsert.length;\n    var html_node = toinsert[nchildren-1].children[0];\n    html_node.innerHTML = output.data[HTML_MIME_TYPE];\n    var scripts = [];\n    var nodelist = html_node.querySelectorAll(\"script\");\n    for (var i in nodelist) {\n      if (nodelist.hasOwnProperty(i)) {\n        scripts.push(nodelist[i])\n      }\n    }\n\n    scripts.forEach( function (oldScript) {\n      var newScript = document.createElement(\"script\");\n      var attrs = [];\n      var nodemap = oldScript.attributes;\n      for (var j in nodemap) {\n        if (nodemap.hasOwnProperty(j)) {\n          attrs.push(nodemap[j])\n        }\n      }\n      attrs.forEach(function(attr) { newScript.setAttribute(attr.name, attr.value) });\n      newScript.appendChild(document.createTextNode(oldScript.innerHTML));\n      oldScript.parentNode.replaceChild(newScript, oldScript);\n    });\n    if (JS_MIME_TYPE in output.data) {\n      toinsert[nchildren-1].children[1].textContent = output.data[JS_MIME_TYPE];\n    }\n    output_area._hv_plot_id = id;\n    if ((window.Bokeh !== undefined) && (id in Bokeh.index)) {\n      window.PyViz.plot_index[id] = Bokeh.index[id];\n    } else {\n      window.PyViz.plot_index[id] = null;\n    }\n  } else if (output.metadata[EXEC_MIME_TYPE][\"server_id\"] !== undefined) {\n    var bk_div = document.createElement(\"div\");\n    bk_div.innerHTML = output.data[HTML_MIME_TYPE];\n    var script_attrs = bk_div.children[0].attributes;\n    for (var i = 0; i < script_attrs.length; i++) {\n      toinsert[toinsert.length - 1].childNodes[1].setAttribute(script_attrs[i].name, script_attrs[i].value);\n    }\n    // store reference to server id on output_area\n    output_area._bokeh_server_id = output.metadata[EXEC_MIME_TYPE][\"server_id\"];\n  }\n}\n\n/**\n * Handle when an output is cleared or removed\n */\nfunction handle_clear_output(event, handle) {\n  var id = handle.cell.output_area._hv_plot_id;\n  var server_id = handle.cell.output_area._bokeh_server_id;\n  if (((id === undefined) || !(id in PyViz.plot_index)) && (server_id !== undefined)) { return; }\n  var comm = window.PyViz.comm_manager.get_client_comm(\"hv-extension-comm\", \"hv-extension-comm\", function () {});\n  if (server_id !== null) {\n    comm.send({event_type: 'server_delete', 'id': server_id});\n    return;\n  } else if (comm !== null) {\n    comm.send({event_type: 'delete', 'id': id});\n  }\n  delete PyViz.plot_index[id];\n  if ((window.Bokeh !== undefined) & (id in window.Bokeh.index)) {\n    var doc = window.Bokeh.index[id].model.document\n    doc.clear();\n    const i = window.Bokeh.documents.indexOf(doc);\n    if (i > -1) {\n      window.Bokeh.documents.splice(i, 1);\n    }\n  }\n}\n\n/**\n * Handle kernel restart event\n */\nfunction handle_kernel_cleanup(event, handle) {\n  delete PyViz.comms[\"hv-extension-comm\"];\n  window.PyViz.plot_index = {}\n}\n\n/**\n * Handle update_display_data messages\n */\nfunction handle_update_output(event, handle) {\n  handle_clear_output(event, {cell: {output_area: handle.output_area}})\n  handle_add_output(event, handle)\n}\n\nfunction register_renderer(events, OutputArea) {\n  function append_mime(data, metadata, element) {\n    // create a DOM node to render to\n    var toinsert = this.create_output_subarea(\n    metadata,\n    CLASS_NAME,\n    EXEC_MIME_TYPE\n    );\n    this.keyboard_manager.register_events(toinsert);\n    // Render to node\n    var props = {data: data, metadata: metadata[EXEC_MIME_TYPE]};\n    render(props, toinsert[0]);\n    element.append(toinsert);\n    return toinsert\n  }\n\n  events.on('output_added.OutputArea', handle_add_output);\n  events.on('output_updated.OutputArea', handle_update_output);\n  events.on('clear_output.CodeCell', handle_clear_output);\n  events.on('delete.Cell', handle_clear_output);\n  events.on('kernel_ready.Kernel', handle_kernel_cleanup);\n\n  OutputArea.prototype.register_mime_type(EXEC_MIME_TYPE, append_mime, {\n    safe: true,\n    index: 0\n  });\n}\n\nif (window.Jupyter !== undefined) {\n  try {\n    var events = require('base/js/events');\n    var OutputArea = require('notebook/js/outputarea').OutputArea;\n    if (OutputArea.prototype.mime_types().indexOf(EXEC_MIME_TYPE) == -1) {\n      register_renderer(events, OutputArea);\n    }\n  } catch(err) {\n  }\n}\n"
          },
          "metadata": {
            "tags": []
          }
        }
      ]
    },
    {
      "cell_type": "markdown",
      "metadata": {
        "id": "RkPHw_KpyGij"
      },
      "source": [
        "## EDA with an interactive dashboard\n",
        "\n",
        "\n",
        "### Bike sharing dataset\n",
        "\n",
        "As an example, we will explore the bike sharing dataset, taken from the [UCI Machine Learning Repository](http://archive.ics.uci.edu/ml/datasets/Bike+Sharing+Dataset)\n",
        "\n",
        "#### Data Set Information\n",
        "\n",
        "Bike sharing systems are new generation of traditional bike rentals where whole process from membership, rental and return back has become automatic. Through these systems, user is able to easily rent a bike from a particular position and return back at another position. Currently, there are about over 500 bike-sharing programs around the world which is composed of over 500 thousands bicycles. Today, there exists great interest in these systems due to their important role in traffic, environmental and health issues.\n",
        "\n",
        "Apart from interesting real world applications of bike sharing systems, the characteristics of data being generated by these systems make them attractive for the research. Opposed to other transport services such as bus or subway, the duration of travel, departure and arrival position is explicitly recorded in these systems. This feature turns bike sharing system into a virtual sensor network that can be used for sensing mobility in the city. Hence, it is expected that most of important events in the city could be detected via monitoring these data.\n",
        "\n",
        "#### Attribute Information\n",
        "\n",
        "Both hour.csv and day.csv have the following fields, except hr which is not available in day.csv\n",
        "\n",
        "- instant: record index\n",
        "- dteday : date\n",
        "- season : season (1:winter, 2:spring, 3:summer, 4:fall)\n",
        "- yr : year (0: 2011, 1:2012)\n",
        "- mnth : month ( 1 to 12)\n",
        "- hr : hour (0 to 23)\n",
        "- holiday : weather day is holiday or not (extracted from [Web Link])\n",
        "- weekday : day of the week\n",
        "- workingday : if day is neither weekend nor holiday is 1, otherwise is 0.\n",
        "+ weathersit :\n",
        "  - 1: Clear, Few clouds, Partly cloudy, Partly cloudy\n",
        "  - 2: Mist + Cloudy, Mist + Broken clouds, Mist + Few clouds, Mist\n",
        "  - 3: Light Snow, Light Rain + Thunderstorm + Scattered clouds, Light Rain + Scattered clouds\n",
        "  - 4: Heavy Rain + Ice Pallets + Thunderstorm + Mist, Snow + Fog\n",
        "- temp : Normalized temperature in Celsius. The values are derived via (t-t_min)/(t_max-t_min), t_min=-8, t_max=+39 (only in hourly scale)\n",
        "- atemp: Normalized feeling temperature in Celsius. The values are derived via (t-t_min)/(t_max-t_min), t_min=-16, t_max=+50 (only in hourly scale)\n",
        "- hum: Normalized humidity. The values are divided to 100 (max)\n",
        "- windspeed: Normalized wind speed. The values are divided to 67 (max)\n",
        "- casual: count of casual users\n",
        "- registered: count of registered users\n",
        "- cnt: count of total rental bikes including both casual and registered"
      ]
    },
    {
      "cell_type": "code",
      "metadata": {
        "id": "BPJVV8AfyGil",
        "outputId": "7c70b156-eaff-4e96-baec-e4c35758f471"
      },
      "source": [
        "def parse_date_hour(date, hour):\n",
        "    \"\"\"Construct datetime for index of hourly data.\"\"\"\n",
        "    return pd.to_datetime(\" \".join([date, str(hour).zfill(2)]), format=\"%Y-%m-%d %H\")\n",
        "\n",
        "\n",
        "daily = pd.read_csv(\"./datasets/bike-sharing/bike-sharing-daily-processed.csv\", parse_dates=[\"dteday\"]).drop(\n",
        "    columns=[\"instant\", \"Unnamed: 0\"]\n",
        ")\n",
        "hourly = pd.read_csv(\"./datasets/bike-sharing/hour.csv\").drop(columns=[\"instant\"])\n",
        "hourly.index = pd.DatetimeIndex(\n",
        "    hourly.apply(lambda row: parse_date_hour(row.dteday, row.hr), axis=1),\n",
        "    name=\"timestamp\",\n",
        ")\n",
        "daily.head()"
      ],
      "execution_count": null,
      "outputs": [
        {
          "output_type": "execute_result",
          "data": {
            "text/html": [
              "<div>\n",
              "<style scoped>\n",
              "    .dataframe tbody tr th:only-of-type {\n",
              "        vertical-align: middle;\n",
              "    }\n",
              "\n",
              "    .dataframe tbody tr th {\n",
              "        vertical-align: top;\n",
              "    }\n",
              "\n",
              "    .dataframe thead th {\n",
              "        text-align: right;\n",
              "    }\n",
              "</style>\n",
              "<table border=\"1\" class=\"dataframe\">\n",
              "  <thead>\n",
              "    <tr style=\"text-align: right;\">\n",
              "      <th></th>\n",
              "      <th>dteday</th>\n",
              "      <th>season</th>\n",
              "      <th>yr</th>\n",
              "      <th>mnth</th>\n",
              "      <th>holiday</th>\n",
              "      <th>weekday</th>\n",
              "      <th>workingday</th>\n",
              "      <th>weathersit</th>\n",
              "      <th>temp</th>\n",
              "      <th>atemp</th>\n",
              "      <th>hum</th>\n",
              "      <th>windspeed</th>\n",
              "      <th>casual</th>\n",
              "      <th>registered</th>\n",
              "      <th>cnt</th>\n",
              "      <th>days_since_2011</th>\n",
              "    </tr>\n",
              "  </thead>\n",
              "  <tbody>\n",
              "    <tr>\n",
              "      <th>0</th>\n",
              "      <td>2011-01-01</td>\n",
              "      <td>SPRING</td>\n",
              "      <td>2011</td>\n",
              "      <td>1</td>\n",
              "      <td>NO HOLIDAY</td>\n",
              "      <td>SAT</td>\n",
              "      <td>NO WORKING DAY</td>\n",
              "      <td>MISTY</td>\n",
              "      <td>8.175849</td>\n",
              "      <td>28.363250</td>\n",
              "      <td>80.5833</td>\n",
              "      <td>10.749882</td>\n",
              "      <td>331</td>\n",
              "      <td>654</td>\n",
              "      <td>985</td>\n",
              "      <td>0</td>\n",
              "    </tr>\n",
              "    <tr>\n",
              "      <th>1</th>\n",
              "      <td>2011-01-02</td>\n",
              "      <td>SPRING</td>\n",
              "      <td>2011</td>\n",
              "      <td>1</td>\n",
              "      <td>NO HOLIDAY</td>\n",
              "      <td>SUN</td>\n",
              "      <td>NO WORKING DAY</td>\n",
              "      <td>MISTY</td>\n",
              "      <td>9.083466</td>\n",
              "      <td>28.027126</td>\n",
              "      <td>69.6087</td>\n",
              "      <td>16.652113</td>\n",
              "      <td>131</td>\n",
              "      <td>670</td>\n",
              "      <td>801</td>\n",
              "      <td>1</td>\n",
              "    </tr>\n",
              "    <tr>\n",
              "      <th>2</th>\n",
              "      <td>2011-01-03</td>\n",
              "      <td>SPRING</td>\n",
              "      <td>2011</td>\n",
              "      <td>1</td>\n",
              "      <td>NO HOLIDAY</td>\n",
              "      <td>MON</td>\n",
              "      <td>WORKING DAY</td>\n",
              "      <td>GOOD</td>\n",
              "      <td>1.229108</td>\n",
              "      <td>22.439770</td>\n",
              "      <td>43.7273</td>\n",
              "      <td>16.636703</td>\n",
              "      <td>120</td>\n",
              "      <td>1229</td>\n",
              "      <td>1349</td>\n",
              "      <td>2</td>\n",
              "    </tr>\n",
              "    <tr>\n",
              "      <th>3</th>\n",
              "      <td>2011-01-04</td>\n",
              "      <td>SPRING</td>\n",
              "      <td>2011</td>\n",
              "      <td>1</td>\n",
              "      <td>NO HOLIDAY</td>\n",
              "      <td>TUE</td>\n",
              "      <td>WORKING DAY</td>\n",
              "      <td>GOOD</td>\n",
              "      <td>1.400000</td>\n",
              "      <td>23.212148</td>\n",
              "      <td>59.0435</td>\n",
              "      <td>10.739832</td>\n",
              "      <td>108</td>\n",
              "      <td>1454</td>\n",
              "      <td>1562</td>\n",
              "      <td>3</td>\n",
              "    </tr>\n",
              "    <tr>\n",
              "      <th>4</th>\n",
              "      <td>2011-01-05</td>\n",
              "      <td>SPRING</td>\n",
              "      <td>2011</td>\n",
              "      <td>1</td>\n",
              "      <td>NO HOLIDAY</td>\n",
              "      <td>WED</td>\n",
              "      <td>WORKING DAY</td>\n",
              "      <td>GOOD</td>\n",
              "      <td>2.666979</td>\n",
              "      <td>23.795180</td>\n",
              "      <td>43.6957</td>\n",
              "      <td>12.522300</td>\n",
              "      <td>82</td>\n",
              "      <td>1518</td>\n",
              "      <td>1600</td>\n",
              "      <td>4</td>\n",
              "    </tr>\n",
              "  </tbody>\n",
              "</table>\n",
              "</div>"
            ],
            "text/plain": [
              "      dteday  season    yr  mnth     holiday weekday      workingday  \\\n",
              "0 2011-01-01  SPRING  2011     1  NO HOLIDAY     SAT  NO WORKING DAY   \n",
              "1 2011-01-02  SPRING  2011     1  NO HOLIDAY     SUN  NO WORKING DAY   \n",
              "2 2011-01-03  SPRING  2011     1  NO HOLIDAY     MON     WORKING DAY   \n",
              "3 2011-01-04  SPRING  2011     1  NO HOLIDAY     TUE     WORKING DAY   \n",
              "4 2011-01-05  SPRING  2011     1  NO HOLIDAY     WED     WORKING DAY   \n",
              "\n",
              "  weathersit      temp      atemp      hum  windspeed  casual  registered  \\\n",
              "0      MISTY  8.175849  28.363250  80.5833  10.749882     331         654   \n",
              "1      MISTY  9.083466  28.027126  69.6087  16.652113     131         670   \n",
              "2       GOOD  1.229108  22.439770  43.7273  16.636703     120        1229   \n",
              "3       GOOD  1.400000  23.212148  59.0435  10.739832     108        1454   \n",
              "4       GOOD  2.666979  23.795180  43.6957  12.522300      82        1518   \n",
              "\n",
              "    cnt  days_since_2011  \n",
              "0   985                0  \n",
              "1   801                1  \n",
              "2  1349                2  \n",
              "3  1562                3  \n",
              "4  1600                4  "
            ]
          },
          "metadata": {
            "tags": []
          },
          "execution_count": 2
        }
      ]
    },
    {
      "cell_type": "code",
      "metadata": {
        "id": "M8bIqAhEyGil"
      },
      "source": [
        "title = \"## Daily bikesharing count\"\n",
        "subtitle = \"Total count = casual + registered users\"\n",
        "\n",
        "# interactive date reange\n",
        "date_range_slider = pn.widgets.DateRangeSlider(\n",
        "    name=\"date\",\n",
        "    start=pd.to_datetime(\"2011-01-01\"),\n",
        "    end=pd.to_datetime(\"2012-12-31\"),\n",
        "    value=(pd.to_datetime(\"2011-01-01\"), pd.to_datetime(\"2012-01-01\")),\n",
        ")\n",
        "\n",
        "\n",
        "@pn.depends(date_range_slider.param.value)\n",
        "def get_plot(date_range, df=daily, x=\"dteday\", y=\"cnt\"):\n",
        "    \"\"\"Dashboard for exploring timeseries.\n",
        "\n",
        "    Args\n",
        "    ----\n",
        "        x: date or timestamp\n",
        "        y: univariate timeseries\n",
        "\n",
        "    \"\"\"\n",
        "    start_date = date_range_slider.value[0]\n",
        "    end_date = date_range_slider.value[1]\n",
        "    mask = (df[x] > start_date) & (df[x] <= end_date)\n",
        "    df = df.loc[mask]\n",
        "    chart = alt.Chart(df).mark_line().encode(x=x, y=y).properties(width=800)\n",
        "    return chart\n",
        "\n",
        "\n",
        "dash = pn.Column(title, subtitle, get_plot, date_range_slider, width=800)"
      ],
      "execution_count": null,
      "outputs": []
    },
    {
      "cell_type": "code",
      "metadata": {
        "id": "3INuG-4ryGim",
        "outputId": "c0d3f3bb-8ab6-4b39-f418-375663fe6c05"
      },
      "source": [
        "dash.servable()"
      ],
      "execution_count": null,
      "outputs": [
        {
          "output_type": "display_data",
          "data": {},
          "metadata": {
            "tags": []
          }
        },
        {
          "output_type": "execute_result",
          "data": {
            "application/vnd.holoviews_exec.v0+json": "",
            "text/html": [
              "<div id='1001'>\n",
              "\n",
              "\n",
              "\n",
              "\n",
              "\n",
              "  <div class=\"bk-root\" id=\"85d2fd96-6004-46b0-a38d-50b184c7a9c7\" data-root-id=\"1001\"></div>\n",
              "</div>\n",
              "<script type=\"application/javascript\">(function(root) {\n",
              "  function embed_document(root) {\n",
              "    var docs_json = {\"afb3fa92-dd3c-40e4-89ec-e6db85d2e7c8\":{\"roots\":{\"references\":[{\"attributes\":{\"data\":{\"$schema\":\"https://vega.github.io/schema/vega-lite/v4.8.1.json\",\"config\":{\"view\":{\"continuousHeight\":300,\"continuousWidth\":400}},\"data\":{\"format\":{\"type\":\"json\"},\"url\":\"altair-data-022e0bfd3286b6e61a24b33da6e6d977.json\"},\"encoding\":{\"x\":{\"field\":\"dteday\",\"type\":\"temporal\"},\"y\":{\"field\":\"cnt\",\"type\":\"quantitative\"}},\"mark\":\"line\",\"width\":800},\"height\":322,\"margin\":[5,5,5,5],\"name\":\"ParamFunction00012\",\"width\":422},\"id\":\"1005\",\"type\":\"panel.models.vega.VegaPlot\"},{\"attributes\":{\"css_classes\":[\"markdown\"],\"margin\":[5,5,5,5],\"name\":\"Markdown00010\",\"text\":\"&lt;p&gt;Total count = casual + registered users&lt;/p&gt;\"},\"id\":\"1003\",\"type\":\"panel.models.markup.HTML\"},{\"attributes\":{\"children\":[{\"id\":\"1002\"},{\"id\":\"1003\"},{\"id\":\"1004\"},{\"id\":\"1006\"}],\"margin\":[0,0,0,0],\"min_width\":800,\"name\":\"Column00019\",\"width\":800},\"id\":\"1001\",\"type\":\"Column\"},{\"attributes\":{\"css_classes\":[\"markdown\"],\"margin\":[5,5,5,5],\"name\":\"Markdown00008\",\"text\":\"&lt;h2&gt;Daily bikesharing count&lt;/h2&gt;\"},\"id\":\"1002\",\"type\":\"panel.models.markup.HTML\"},{\"attributes\":{\"client_comm_id\":\"e8b3dc49b2d94081a9ccbf3a99a930ad\",\"comm_id\":\"43d043c26e474929ba9f47e89578d699\",\"plot_id\":\"1001\"},\"id\":\"1007\",\"type\":\"panel.models.comm_manager.CommManager\"},{\"attributes\":{\"end\":1356912000000.0,\"format\":\"%d %b %Y\",\"margin\":[5,10,5,10],\"start\":1293840000000.0,\"title\":\"date\",\"value\":[1293840000000.0,1325376000000.0],\"value_throttled\":[1293840000000.0,1325376000000.0]},\"id\":\"1006\",\"type\":\"DateRangeSlider\"},{\"attributes\":{\"children\":[{\"id\":\"1005\"}],\"margin\":[0,0,0,0],\"name\":\"Row00016\"},\"id\":\"1004\",\"type\":\"Row\"},{\"attributes\":{\"reload\":false},\"id\":\"1008\",\"type\":\"panel.models.location.Location\"}],\"root_ids\":[\"1001\",\"1007\",\"1008\"]},\"title\":\"Bokeh Application\",\"version\":\"2.2.3\"}};\n",
              "    var render_items = [{\"docid\":\"afb3fa92-dd3c-40e4-89ec-e6db85d2e7c8\",\"root_ids\":[\"1001\"],\"roots\":{\"1001\":\"85d2fd96-6004-46b0-a38d-50b184c7a9c7\"}}];\n",
              "    root.Bokeh.embed.embed_items_notebook(docs_json, render_items);\n",
              "  }\n",
              "  if (root.Bokeh !== undefined && root.Bokeh.Panel !== undefined && root['vega'] !== undefined ) {\n",
              "    embed_document(root);\n",
              "  } else {\n",
              "    var attempts = 0;\n",
              "    var timer = setInterval(function(root) {\n",
              "      if (root.Bokeh !== undefined && root.Bokeh.Panel !== undefined && root['vega'] !== undefined) {\n",
              "        clearInterval(timer);\n",
              "        embed_document(root);\n",
              "      } else if (document.readyState == \"complete\") {\n",
              "        attempts++;\n",
              "        if (attempts > 100) {\n",
              "          clearInterval(timer);\n",
              "          console.log(\"Bokeh: ERROR: Unable to run BokehJS code because BokehJS library is missing\");\n",
              "        }\n",
              "      }\n",
              "    }, 10, root)\n",
              "  }\n",
              "})(window);</script>"
            ],
            "text/plain": [
              "Column(width=800)\n",
              "    [0] Markdown(str)\n",
              "    [1] Markdown(str)\n",
              "    [2] ParamFunction(function)\n",
              "    [3] DateRangeSlider(end=Timestamp('2012-12-31 0..., name='date', start=Timestamp('2011-01-01 0..., value=(Timestamp('2011-01-01 00:..., value_throttled=(Timestamp('2011-01-01 00:...)"
            ]
          },
          "metadata": {
            "tags": [],
            "application/vnd.holoviews_exec.v0+json": {
              "id": "1001"
            }
          },
          "execution_count": 4
        }
      ]
    },
    {
      "cell_type": "code",
      "metadata": {
        "id": "bRB_ahCyyGim"
      },
      "source": [
        "monthly = daily.groupby(['yr', 'mnth'], as_index=False)['cnt'].sum('cnt')\n",
        "monthly['yr_mnth'] = monthly.apply(lambda df: '-'.join([str(df.yr), str(df.mnth).zfill(2)]), axis=1)\n",
        "\n",
        "def simple_ts_plot(df, x='yr_mnth', y='cnt', width=800, height=200):\n",
        "    return alt.Chart(df).mark_line().encode(x=x, y=y).properties(width=800)"
      ],
      "execution_count": null,
      "outputs": []
    },
    {
      "cell_type": "code",
      "metadata": {
        "id": "KKZPuv_-yGim",
        "outputId": "62575437-27f1-4541-9203-6f42536d5cc6"
      },
      "source": [
        "simple_ts_plot(monthly)"
      ],
      "execution_count": null,
      "outputs": [
        {
          "output_type": "execute_result",
          "data": {
            "text/html": [
              "\n",
              "<div id=\"altair-viz-89bb48cd208446a6b05c8fbabb503781\"></div>\n",
              "<script type=\"text/javascript\">\n",
              "  (function(spec, embedOpt){\n",
              "    let outputDiv = document.currentScript.previousElementSibling;\n",
              "    if (outputDiv.id !== \"altair-viz-89bb48cd208446a6b05c8fbabb503781\") {\n",
              "      outputDiv = document.getElementById(\"altair-viz-89bb48cd208446a6b05c8fbabb503781\");\n",
              "    }\n",
              "    const paths = {\n",
              "      \"vega\": \"https://cdn.jsdelivr.net/npm//vega@5?noext\",\n",
              "      \"vega-lib\": \"https://cdn.jsdelivr.net/npm//vega-lib?noext\",\n",
              "      \"vega-lite\": \"https://cdn.jsdelivr.net/npm//vega-lite@4.8.1?noext\",\n",
              "      \"vega-embed\": \"https://cdn.jsdelivr.net/npm//vega-embed@6?noext\",\n",
              "    };\n",
              "\n",
              "    function loadScript(lib) {\n",
              "      return new Promise(function(resolve, reject) {\n",
              "        var s = document.createElement('script');\n",
              "        s.src = paths[lib];\n",
              "        s.async = true;\n",
              "        s.onload = () => resolve(paths[lib]);\n",
              "        s.onerror = () => reject(`Error loading script: ${paths[lib]}`);\n",
              "        document.getElementsByTagName(\"head\")[0].appendChild(s);\n",
              "      });\n",
              "    }\n",
              "\n",
              "    function showError(err) {\n",
              "      outputDiv.innerHTML = `<div class=\"error\" style=\"color:red;\">${err}</div>`;\n",
              "      throw err;\n",
              "    }\n",
              "\n",
              "    function displayChart(vegaEmbed) {\n",
              "      vegaEmbed(outputDiv, spec, embedOpt)\n",
              "        .catch(err => showError(`Javascript Error: ${err.message}<br>This usually means there's a typo in your chart specification. See the javascript console for the full traceback.`));\n",
              "    }\n",
              "\n",
              "    if(typeof define === \"function\" && define.amd) {\n",
              "      requirejs.config({paths});\n",
              "      require([\"vega-embed\"], displayChart, err => showError(`Error loading script: ${err.message}`));\n",
              "    } else if (typeof vegaEmbed === \"function\") {\n",
              "      displayChart(vegaEmbed);\n",
              "    } else {\n",
              "      loadScript(\"vega\")\n",
              "        .then(() => loadScript(\"vega-lite\"))\n",
              "        .then(() => loadScript(\"vega-embed\"))\n",
              "        .catch(showError)\n",
              "        .then(() => displayChart(vegaEmbed));\n",
              "    }\n",
              "  })({\"config\": {\"view\": {\"continuousWidth\": 400, \"continuousHeight\": 300}}, \"data\": {\"url\": \"altair-data-c61255560d9d1d22a8dbcfb3737a91c1.json\", \"format\": {\"type\": \"json\"}}, \"mark\": \"line\", \"encoding\": {\"x\": {\"type\": \"nominal\", \"field\": \"yr_mnth\"}, \"y\": {\"type\": \"quantitative\", \"field\": \"cnt\"}}, \"width\": 800, \"$schema\": \"https://vega.github.io/schema/vega-lite/v4.8.1.json\"}, {\"mode\": \"vega-lite\"});\n",
              "</script>"
            ],
            "text/plain": [
              "alt.Chart(...)"
            ]
          },
          "metadata": {
            "tags": []
          },
          "execution_count": 6
        }
      ]
    },
    {
      "cell_type": "markdown",
      "metadata": {
        "id": "3XthWXqkyGin"
      },
      "source": [
        "### Decomposition"
      ]
    },
    {
      "cell_type": "markdown",
      "metadata": {
        "id": "LcvVep5-yGio"
      },
      "source": [
        "#### Simple decomposition (`statsmodels`)"
      ]
    },
    {
      "cell_type": "code",
      "metadata": {
        "id": "tTWlHzR1yGip",
        "outputId": "e51db077-2b30-477c-c11b-b6e75bc101f0"
      },
      "source": [
        "from statsmodels.tsa.seasonal import seasonal_decompose, STL\n",
        "\n",
        "simple_decomposition = seasonal_decompose(monthly.cnt, period=12)\n",
        "simple_decomposition.plot();"
      ],
      "execution_count": null,
      "outputs": [
        {
          "output_type": "display_data",
          "data": {
            "image/png": "[encoded data removed]",
            "text/plain": [
              "<Figure size 432x288 with 4 Axes>"
            ]
          },
          "metadata": {
            "tags": [],
            "needs_background": "light"
          }
        }
      ]
    },
    {
      "cell_type": "markdown",
      "metadata": {
        "id": "_nhSkXfEyGip"
      },
      "source": [
        "#### STL decomposition (`statsmodels`)"
      ]
    },
    {
      "cell_type": "code",
      "metadata": {
        "id": "RZ2pxiu1yGiq",
        "outputId": "98a250ca-b10e-462b-ea8a-53b02bdb4021"
      },
      "source": [
        "stl = STL(monthly.cnt, period=12).fit()\n",
        "stl.plot();"
      ],
      "execution_count": null,
      "outputs": [
        {
          "output_type": "display_data",
          "data": {
            "image/png": "[encoded data removed]",
            "text/plain": [
              "<Figure size 432x288 with 4 Axes>"
            ]
          },
          "metadata": {
            "tags": [],
            "needs_background": "light"
          }
        }
      ]
    },
    {
      "cell_type": "markdown",
      "metadata": {
        "id": "VsB49LhXyGiq"
      },
      "source": [
        "Let's make those plots better looking with Altair."
      ]
    },
    {
      "cell_type": "code",
      "metadata": {
        "id": "Bz6srFskyGiq",
        "outputId": "0a6ab9a9-e0e2-4390-a4b3-c79a69773d1c"
      },
      "source": [
        "_ts = {}\n",
        "for result in ['observed', 'trend', 'seasonal', 'resid']:\n",
        "    df = pd.DataFrame({'yr_mnth': monthly.yr_mnth, result: getattr(stl, result)})\n",
        "    _ts[result] = simple_ts_plot(df, x='yr_mnth', y=result, height=50)\n",
        "\n",
        "\n",
        "alt.vconcat(*_ts.values()).resolve_scale(x='shared')"
      ],
      "execution_count": null,
      "outputs": [
        {
          "output_type": "execute_result",
          "data": {
            "text/html": [
              "\n",
              "<div id=\"altair-viz-19af5bb9e4fe471b813cfe0971703ec6\"></div>\n",
              "<script type=\"text/javascript\">\n",
              "  (function(spec, embedOpt){\n",
              "    let outputDiv = document.currentScript.previousElementSibling;\n",
              "    if (outputDiv.id !== \"altair-viz-19af5bb9e4fe471b813cfe0971703ec6\") {\n",
              "      outputDiv = document.getElementById(\"altair-viz-19af5bb9e4fe471b813cfe0971703ec6\");\n",
              "    }\n",
              "    const paths = {\n",
              "      \"vega\": \"https://cdn.jsdelivr.net/npm//vega@5?noext\",\n",
              "      \"vega-lib\": \"https://cdn.jsdelivr.net/npm//vega-lib?noext\",\n",
              "      \"vega-lite\": \"https://cdn.jsdelivr.net/npm//vega-lite@4.8.1?noext\",\n",
              "      \"vega-embed\": \"https://cdn.jsdelivr.net/npm//vega-embed@6?noext\",\n",
              "    };\n",
              "\n",
              "    function loadScript(lib) {\n",
              "      return new Promise(function(resolve, reject) {\n",
              "        var s = document.createElement('script');\n",
              "        s.src = paths[lib];\n",
              "        s.async = true;\n",
              "        s.onload = () => resolve(paths[lib]);\n",
              "        s.onerror = () => reject(`Error loading script: ${paths[lib]}`);\n",
              "        document.getElementsByTagName(\"head\")[0].appendChild(s);\n",
              "      });\n",
              "    }\n",
              "\n",
              "    function showError(err) {\n",
              "      outputDiv.innerHTML = `<div class=\"error\" style=\"color:red;\">${err}</div>`;\n",
              "      throw err;\n",
              "    }\n",
              "\n",
              "    function displayChart(vegaEmbed) {\n",
              "      vegaEmbed(outputDiv, spec, embedOpt)\n",
              "        .catch(err => showError(`Javascript Error: ${err.message}<br>This usually means there's a typo in your chart specification. See the javascript console for the full traceback.`));\n",
              "    }\n",
              "\n",
              "    if(typeof define === \"function\" && define.amd) {\n",
              "      requirejs.config({paths});\n",
              "      require([\"vega-embed\"], displayChart, err => showError(`Error loading script: ${err.message}`));\n",
              "    } else if (typeof vegaEmbed === \"function\") {\n",
              "      displayChart(vegaEmbed);\n",
              "    } else {\n",
              "      loadScript(\"vega\")\n",
              "        .then(() => loadScript(\"vega-lite\"))\n",
              "        .then(() => loadScript(\"vega-embed\"))\n",
              "        .catch(showError)\n",
              "        .then(() => displayChart(vegaEmbed));\n",
              "    }\n",
              "  })({\"config\": {\"view\": {\"continuousWidth\": 400, \"continuousHeight\": 300}}, \"vconcat\": [{\"data\": {\"url\": \"altair-data-309ddd215aa7e135fa2dcdc8fc2071fe.json\", \"format\": {\"type\": \"json\"}}, \"mark\": \"line\", \"encoding\": {\"x\": {\"type\": \"nominal\", \"field\": \"yr_mnth\"}, \"y\": {\"type\": \"quantitative\", \"field\": \"observed\"}}, \"width\": 800}, {\"data\": {\"url\": \"altair-data-b04fc464d9a35678bb493bfc4a1a54d1.json\", \"format\": {\"type\": \"json\"}}, \"mark\": \"line\", \"encoding\": {\"x\": {\"type\": \"nominal\", \"field\": \"yr_mnth\"}, \"y\": {\"type\": \"quantitative\", \"field\": \"trend\"}}, \"width\": 800}, {\"data\": {\"url\": \"altair-data-3fbc468cd87ddbf4a762f12837389268.json\", \"format\": {\"type\": \"json\"}}, \"mark\": \"line\", \"encoding\": {\"x\": {\"type\": \"nominal\", \"field\": \"yr_mnth\"}, \"y\": {\"type\": \"quantitative\", \"field\": \"seasonal\"}}, \"width\": 800}, {\"data\": {\"url\": \"altair-data-7e6976195ccabd90196c2d072d004550.json\", \"format\": {\"type\": \"json\"}}, \"mark\": \"line\", \"encoding\": {\"x\": {\"type\": \"nominal\", \"field\": \"yr_mnth\"}, \"y\": {\"type\": \"quantitative\", \"field\": \"resid\"}}, \"width\": 800}], \"resolve\": {\"scale\": {\"x\": \"shared\"}}, \"$schema\": \"https://vega.github.io/schema/vega-lite/v4.8.1.json\"}, {\"mode\": \"vega-lite\"});\n",
              "</script>"
            ],
            "text/plain": [
              "alt.VConcatChart(...)"
            ]
          },
          "metadata": {
            "tags": []
          },
          "execution_count": 9
        }
      ]
    },
    {
      "cell_type": "markdown",
      "metadata": {
        "id": "njC9OIZSyGiq"
      },
      "source": [
        "#### Seasonal decomposition (`pmdarima`)\n",
        "\n",
        "Same result as `statsmodels` `seasonal_decompose`."
      ]
    },
    {
      "cell_type": "code",
      "metadata": {
        "id": "wwCuPRGByGir",
        "outputId": "aeb4c256-661d-45d0-f94a-d5783009fffe"
      },
      "source": [
        "from pmdarima import arima, utils\n",
        "\n",
        "# note pmdarima expects nd.array as input\n",
        "arima_decomp = arima.decompose(monthly.cnt.values, type_='additive', m=12)\n",
        "utils.decomposed_plot(arima_decomp, figure_kwargs={'figsize': (12,12)})"
      ],
      "execution_count": null,
      "outputs": [
        {
          "output_type": "display_data",
          "data": {
            "image/png": "[encoded data removed]",
            "text/plain": [
              "<Figure size 864x864 with 4 Axes>"
            ]
          },
          "metadata": {
            "tags": [],
            "needs_background": "light"
          }
        }
      ]
    },
    {
      "cell_type": "markdown",
      "metadata": {
        "id": "xZDwnW0uyGir"
      },
      "source": [
        "## Forecasting with ETS\n",
        "\n",
        "We will reproduce the analysis from [FPP2 section 7.7](https://otexts.com/fpp2/ets-forecasting.html) in Python. following the [example from the statsmodels documentation](https://www.statsmodels.org/stable/examples/notebooks/generated/ets.html)."
      ]
    },
    {
      "cell_type": "markdown",
      "metadata": {
        "id": "AX1-IYqzyGir"
      },
      "source": [
        "### Get data: international visitor nights in Australia"
      ]
    },
    {
      "cell_type": "code",
      "metadata": {
        "id": "HBQJqjEFyGis",
        "outputId": "ce36797a-593c-4650-8405-a308f853742c"
      },
      "source": [
        "# read data and set proper DateRangeIndex in pandas\n",
        "austourists_url = \"https://github.com/robjhyndman/fpp2-package/blob/master/data/austourists.rda?raw=true\" \n",
        "austourists_data = read_rda(austourists_url)\n",
        "austourists = pd.DataFrame(austourists_data).set_index(\n",
        "    pd.period_range(start=\"1999Q1\", end=\"2015Q4\", freq=\"Q\")\n",
        ")\n",
        "austourists.head()"
      ],
      "execution_count": null,
      "outputs": [
        {
          "output_type": "execute_result",
          "data": {
            "text/html": [
              "<div>\n",
              "<style scoped>\n",
              "    .dataframe tbody tr th:only-of-type {\n",
              "        vertical-align: middle;\n",
              "    }\n",
              "\n",
              "    .dataframe tbody tr th {\n",
              "        vertical-align: top;\n",
              "    }\n",
              "\n",
              "    .dataframe thead th {\n",
              "        text-align: right;\n",
              "    }\n",
              "</style>\n",
              "<table border=\"1\" class=\"dataframe\">\n",
              "  <thead>\n",
              "    <tr style=\"text-align: right;\">\n",
              "      <th></th>\n",
              "      <th>austourists</th>\n",
              "    </tr>\n",
              "  </thead>\n",
              "  <tbody>\n",
              "    <tr>\n",
              "      <th>1999Q1</th>\n",
              "      <td>30.052513</td>\n",
              "    </tr>\n",
              "    <tr>\n",
              "      <th>1999Q2</th>\n",
              "      <td>19.148496</td>\n",
              "    </tr>\n",
              "    <tr>\n",
              "      <th>1999Q3</th>\n",
              "      <td>25.317692</td>\n",
              "    </tr>\n",
              "    <tr>\n",
              "      <th>1999Q4</th>\n",
              "      <td>27.591437</td>\n",
              "    </tr>\n",
              "    <tr>\n",
              "      <th>2000Q1</th>\n",
              "      <td>32.076456</td>\n",
              "    </tr>\n",
              "  </tbody>\n",
              "</table>\n",
              "</div>"
            ],
            "text/plain": [
              "        austourists\n",
              "1999Q1    30.052513\n",
              "1999Q2    19.148496\n",
              "1999Q3    25.317692\n",
              "1999Q4    27.591437\n",
              "2000Q1    32.076456"
            ]
          },
          "metadata": {
            "tags": []
          },
          "execution_count": 11
        }
      ]
    },
    {
      "cell_type": "markdown",
      "metadata": {
        "id": "KHD2eeZCyGis"
      },
      "source": [
        "### Forecast ETS(M, A, M) model\n",
        "\n",
        "Note: use `exponential_smoothing.ETSModel` and not`holtwinters.ExponentialSmoothing`"
      ]
    },
    {
      "cell_type": "code",
      "metadata": {
        "id": "3IPWct6AyGis",
        "outputId": "ae1af178-912d-4b46-8c23-f5e2b00cb06d"
      },
      "source": [
        "from statsmodels.tsa.exponential_smoothing.ets import ETSModel\n",
        "\n",
        "\n",
        "aust_ets = ETSModel(\n",
        "    austourists.austourists.rename('observed'), # NB: only take 1D array or pd.Series\n",
        "    error=\"mul\",\n",
        "    trend=\"add\",\n",
        "    seasonal=\"mul\",\n",
        "    damped_trend=True,\n",
        "    seasonal_periods=4\n",
        ").fit(maxiter=10000)\n",
        "\n",
        "print(aust_ets.summary())"
      ],
      "execution_count": null,
      "outputs": [
        {
          "output_type": "stream",
          "text": [
            "                                 ETS Results                                  \n",
            "==============================================================================\n",
            "Dep. Variable:               observed   No. Observations:                   68\n",
            "Model:                      ETS(MAdM)   Log Likelihood                -149.353\n",
            "Date:                Mon, 18 Jan 2021   AIC                            320.706\n",
            "Time:                        23:16:11   BIC                            345.120\n",
            "Sample:                    03-31-1999   HQIC                           330.379\n",
            "                         - 12-31-2015   Scale                            0.003\n",
            "Covariance Type:               approx                                         \n",
            "======================================================================================\n",
            "                         coef    std err          z      P>|z|      [0.025      0.975]\n",
            "--------------------------------------------------------------------------------------\n",
            "smoothing_level        0.4969      0.112      4.452      0.000       0.278       0.716\n",
            "smoothing_trend     4.969e-05      0.009      0.005      0.996      -0.018       0.018\n",
            "smoothing_seasonal  5.031e-05        nan        nan        nan         nan         nan\n",
            "damping_trend          0.9800      0.011     92.304      0.000       0.959       1.001\n",
            "initial_level         28.9575        nan        nan        nan         nan         nan\n",
            "initial_trend          1.0006        nan        nan        nan         nan         nan\n",
            "initial_seasonal.0     0.8395        nan        nan        nan         nan         nan\n",
            "initial_seasonal.1     0.7777        nan        nan        nan         nan         nan\n",
            "initial_seasonal.2     0.6242        nan        nan        nan         nan         nan\n",
            "initial_seasonal.3     1.0000        nan        nan        nan         nan         nan\n",
            "===================================================================================\n",
            "Ljung-Box (Q):                        4.38   Jarque-Bera (JB):                15.41\n",
            "Prob(Q):                              0.82   Prob(JB):                         0.00\n",
            "Heteroskedasticity (H):               0.16   Skew:                            -0.89\n",
            "Prob(H) (two-sided):                  0.00   Kurtosis:                         4.50\n",
            "===================================================================================\n",
            "\n",
            "Warnings:\n",
            "[1] Covariance matrix calculated using numerical (complex-step) differentiation.\n"
          ],
          "name": "stdout"
        }
      ]
    },
    {
      "cell_type": "markdown",
      "metadata": {
        "id": "Mm40QbHuyGit"
      },
      "source": [
        "Now we can use the `get_prediction` including confidence intervals. Note,however [there is a bug](https://github.com/statsmodels/statsmodels/issues/7175). It has been solved, but not yet included in a release. To continue, you need to install the Python package directly from the repository\n",
        "\n",
        "```shell\n",
        "pip install --user --upgrade git+git:https://github.com/statsmodels/statsmodels.git\n",
        "```"
      ]
    },
    {
      "cell_type": "code",
      "metadata": {
        "id": "f11wNoY6yGit",
        "outputId": "c1aeef18-6f96-4e6b-a47c-7857f5e4dcdc"
      },
      "source": [
        "aust_forecast = aust_ets.get_prediction(start=\"2014\", end=\"2020\")\n",
        "_forecast = (\n",
        "    aust_forecast.summary_frame()\n",
        "    .reset_index()\n",
        "    .rename(columns={\"index\": \"quarter\"})\n",
        "    .assign(quarter=lambda df: df.quarter.apply(str))\n",
        ")\n",
        "_forecast.head()"
      ],
      "execution_count": null,
      "outputs": [
        {
          "output_type": "execute_result",
          "data": {
            "text/html": [
              "<div>\n",
              "<style scoped>\n",
              "    .dataframe tbody tr th:only-of-type {\n",
              "        vertical-align: middle;\n",
              "    }\n",
              "\n",
              "    .dataframe tbody tr th {\n",
              "        vertical-align: top;\n",
              "    }\n",
              "\n",
              "    .dataframe thead th {\n",
              "        text-align: right;\n",
              "    }\n",
              "</style>\n",
              "<table border=\"1\" class=\"dataframe\">\n",
              "  <thead>\n",
              "    <tr style=\"text-align: right;\">\n",
              "      <th></th>\n",
              "      <th>quarter</th>\n",
              "      <th>mean</th>\n",
              "      <th>mean_numerical</th>\n",
              "      <th>pi_lower</th>\n",
              "      <th>pi_upper</th>\n",
              "    </tr>\n",
              "  </thead>\n",
              "  <tbody>\n",
              "    <tr>\n",
              "      <th>0</th>\n",
              "      <td>2014Q1</td>\n",
              "      <td>67.904821</td>\n",
              "      <td>68.051238</td>\n",
              "      <td>60.500647</td>\n",
              "      <td>75.333873</td>\n",
              "    </tr>\n",
              "    <tr>\n",
              "      <th>1</th>\n",
              "      <td>2014Q2</td>\n",
              "      <td>41.743662</td>\n",
              "      <td>41.793487</td>\n",
              "      <td>37.020569</td>\n",
              "      <td>46.413003</td>\n",
              "    </tr>\n",
              "    <tr>\n",
              "      <th>2</th>\n",
              "      <td>2014Q3</td>\n",
              "      <td>53.038344</td>\n",
              "      <td>52.974327</td>\n",
              "      <td>46.908652</td>\n",
              "      <td>58.660805</td>\n",
              "    </tr>\n",
              "    <tr>\n",
              "      <th>3</th>\n",
              "      <td>2014Q4</td>\n",
              "      <td>58.410015</td>\n",
              "      <td>58.467481</td>\n",
              "      <td>52.243082</td>\n",
              "      <td>64.963138</td>\n",
              "    </tr>\n",
              "    <tr>\n",
              "      <th>4</th>\n",
              "      <td>2015Q1</td>\n",
              "      <td>70.690728</td>\n",
              "      <td>70.549322</td>\n",
              "      <td>62.519917</td>\n",
              "      <td>78.001451</td>\n",
              "    </tr>\n",
              "  </tbody>\n",
              "</table>\n",
              "</div>"
            ],
            "text/plain": [
              "  quarter       mean  mean_numerical   pi_lower   pi_upper\n",
              "0  2014Q1  67.904821       68.051238  60.500647  75.333873\n",
              "1  2014Q2  41.743662       41.793487  37.020569  46.413003\n",
              "2  2014Q3  53.038344       52.974327  46.908652  58.660805\n",
              "3  2014Q4  58.410015       58.467481  52.243082  64.963138\n",
              "4  2015Q1  70.690728       70.549322  62.519917  78.001451"
            ]
          },
          "metadata": {
            "tags": []
          },
          "execution_count": 13
        }
      ]
    },
    {
      "cell_type": "markdown",
      "metadata": {
        "id": "7ey4PJ7ayGiu"
      },
      "source": [
        "### Plot forecast results using Altair\n",
        "\n",
        "Because we love Altair, let's do some plots with that. There are some details you need to consider.\n",
        "\n",
        "First, Altair can't plot indexes, hence we need to reformat the data"
      ]
    },
    {
      "cell_type": "code",
      "metadata": {
        "id": "xrrMXInPyGiu",
        "outputId": "88489111-5f32-46b4-a85e-c1e62c93e9b9"
      },
      "source": [
        "_aust = (\n",
        "    austourists.reset_index()\n",
        "    .assign(quarter=lambda df: df[\"index\"].apply(str))\n",
        "    .drop(columns=\"index\")\n",
        ")\n",
        "_aust.head()"
      ],
      "execution_count": null,
      "outputs": [
        {
          "output_type": "execute_result",
          "data": {
            "text/html": [
              "<div>\n",
              "<style scoped>\n",
              "    .dataframe tbody tr th:only-of-type {\n",
              "        vertical-align: middle;\n",
              "    }\n",
              "\n",
              "    .dataframe tbody tr th {\n",
              "        vertical-align: top;\n",
              "    }\n",
              "\n",
              "    .dataframe thead th {\n",
              "        text-align: right;\n",
              "    }\n",
              "</style>\n",
              "<table border=\"1\" class=\"dataframe\">\n",
              "  <thead>\n",
              "    <tr style=\"text-align: right;\">\n",
              "      <th></th>\n",
              "      <th>austourists</th>\n",
              "      <th>quarter</th>\n",
              "    </tr>\n",
              "  </thead>\n",
              "  <tbody>\n",
              "    <tr>\n",
              "      <th>0</th>\n",
              "      <td>30.052513</td>\n",
              "      <td>1999Q1</td>\n",
              "    </tr>\n",
              "    <tr>\n",
              "      <th>1</th>\n",
              "      <td>19.148496</td>\n",
              "      <td>1999Q2</td>\n",
              "    </tr>\n",
              "    <tr>\n",
              "      <th>2</th>\n",
              "      <td>25.317692</td>\n",
              "      <td>1999Q3</td>\n",
              "    </tr>\n",
              "    <tr>\n",
              "      <th>3</th>\n",
              "      <td>27.591437</td>\n",
              "      <td>1999Q4</td>\n",
              "    </tr>\n",
              "    <tr>\n",
              "      <th>4</th>\n",
              "      <td>32.076456</td>\n",
              "      <td>2000Q1</td>\n",
              "    </tr>\n",
              "  </tbody>\n",
              "</table>\n",
              "</div>"
            ],
            "text/plain": [
              "   austourists quarter\n",
              "0    30.052513  1999Q1\n",
              "1    19.148496  1999Q2\n",
              "2    25.317692  1999Q3\n",
              "3    27.591437  1999Q4\n",
              "4    32.076456  2000Q1"
            ]
          },
          "metadata": {
            "tags": []
          },
          "execution_count": 14
        }
      ]
    },
    {
      "cell_type": "markdown",
      "metadata": {
        "id": "VpAtIF0ayGiu"
      },
      "source": [
        "Now we can plot the data."
      ]
    },
    {
      "cell_type": "code",
      "metadata": {
        "id": "UxLWqJpjyGiu",
        "outputId": "2bca4084-2675-4b71-a51e-df6987678e66"
      },
      "source": [
        "(\n",
        "    alt.Chart(\n",
        "        austourists.join(aust_ets.fittedvalues.rename(\"fitted\"))\n",
        "        .stack()\n",
        "        .reset_index(name=\"values\")\n",
        "        .rename(columns={\"level_0\": \"quarter\", \"level_1\": \"label\"})\n",
        "        .assign(quarter=lambda df: df.quarter.apply(str))\n",
        "    )\n",
        "    .mark_line()\n",
        "    .encode(\n",
        "        x=alt.X(\"quarter:O\", axis=alt.Axis(values=_aust.quarter.values[::4])),\n",
        "        y=\"values:Q\",\n",
        "        color=\"label\",\n",
        "    )\n",
        "    .properties(width=800)\n",
        ")"
      ],
      "execution_count": null,
      "outputs": [
        {
          "output_type": "execute_result",
          "data": {
            "text/html": [
              "\n",
              "<div id=\"altair-viz-41d42efa74f1462384ac294278ca4bcc\"></div>\n",
              "<script type=\"text/javascript\">\n",
              "  (function(spec, embedOpt){\n",
              "    let outputDiv = document.currentScript.previousElementSibling;\n",
              "    if (outputDiv.id !== \"altair-viz-41d42efa74f1462384ac294278ca4bcc\") {\n",
              "      outputDiv = document.getElementById(\"altair-viz-41d42efa74f1462384ac294278ca4bcc\");\n",
              "    }\n",
              "    const paths = {\n",
              "      \"vega\": \"https://cdn.jsdelivr.net/npm//vega@5?noext\",\n",
              "      \"vega-lib\": \"https://cdn.jsdelivr.net/npm//vega-lib?noext\",\n",
              "      \"vega-lite\": \"https://cdn.jsdelivr.net/npm//vega-lite@4.8.1?noext\",\n",
              "      \"vega-embed\": \"https://cdn.jsdelivr.net/npm//vega-embed@6?noext\",\n",
              "    };\n",
              "\n",
              "    function loadScript(lib) {\n",
              "      return new Promise(function(resolve, reject) {\n",
              "        var s = document.createElement('script');\n",
              "        s.src = paths[lib];\n",
              "        s.async = true;\n",
              "        s.onload = () => resolve(paths[lib]);\n",
              "        s.onerror = () => reject(`Error loading script: ${paths[lib]}`);\n",
              "        document.getElementsByTagName(\"head\")[0].appendChild(s);\n",
              "      });\n",
              "    }\n",
              "\n",
              "    function showError(err) {\n",
              "      outputDiv.innerHTML = `<div class=\"error\" style=\"color:red;\">${err}</div>`;\n",
              "      throw err;\n",
              "    }\n",
              "\n",
              "    function displayChart(vegaEmbed) {\n",
              "      vegaEmbed(outputDiv, spec, embedOpt)\n",
              "        .catch(err => showError(`Javascript Error: ${err.message}<br>This usually means there's a typo in your chart specification. See the javascript console for the full traceback.`));\n",
              "    }\n",
              "\n",
              "    if(typeof define === \"function\" && define.amd) {\n",
              "      requirejs.config({paths});\n",
              "      require([\"vega-embed\"], displayChart, err => showError(`Error loading script: ${err.message}`));\n",
              "    } else if (typeof vegaEmbed === \"function\") {\n",
              "      displayChart(vegaEmbed);\n",
              "    } else {\n",
              "      loadScript(\"vega\")\n",
              "        .then(() => loadScript(\"vega-lite\"))\n",
              "        .then(() => loadScript(\"vega-embed\"))\n",
              "        .catch(showError)\n",
              "        .then(() => displayChart(vegaEmbed));\n",
              "    }\n",
              "  })({\"config\": {\"view\": {\"continuousWidth\": 400, \"continuousHeight\": 300}}, \"data\": {\"url\": \"altair-data-214c46b4f5e248f5156d65eaf3afd01d.json\", \"format\": {\"type\": \"json\"}}, \"mark\": \"line\", \"encoding\": {\"color\": {\"type\": \"nominal\", \"field\": \"label\"}, \"x\": {\"type\": \"ordinal\", \"axis\": {\"values\": [\"1999Q1\", \"2000Q1\", \"2001Q1\", \"2002Q1\", \"2003Q1\", \"2004Q1\", \"2005Q1\", \"2006Q1\", \"2007Q1\", \"2008Q1\", \"2009Q1\", \"2010Q1\", \"2011Q1\", \"2012Q1\", \"2013Q1\", \"2014Q1\", \"2015Q1\"]}, \"field\": \"quarter\"}, \"y\": {\"type\": \"quantitative\", \"field\": \"values\"}}, \"width\": 800, \"$schema\": \"https://vega.github.io/schema/vega-lite/v4.8.1.json\"}, {\"mode\": \"vega-lite\"});\n",
              "</script>"
            ],
            "text/plain": [
              "alt.Chart(...)"
            ]
          },
          "metadata": {
            "tags": []
          },
          "execution_count": 15
        }
      ]
    },
    {
      "cell_type": "code",
      "metadata": {
        "id": "E-LlbkhyyGiv"
      },
      "source": [
        "line = (\n",
        "    alt.Chart(_forecast)\n",
        "    .mark_line()\n",
        "    .encode(\n",
        "        x=alt.X(\"quarter:O\", axis=alt.Axis(values=_forecast.quarter.values[::4])),\n",
        "        y=\"mean:Q\",\n",
        "    )\n",
        ")\n",
        "\n",
        "band = line.mark_area(opacity=0.5).encode(x=\"quarter\", y=\"pi_lower\", y2=\"pi_upper\")"
      ],
      "execution_count": null,
      "outputs": []
    },
    {
      "cell_type": "code",
      "metadata": {
        "id": "5AaOhU8SyGiv",
        "outputId": "d1347ea3-78fb-41fa-b3ae-a15e94b29e24"
      },
      "source": [
        "line + band"
      ],
      "execution_count": null,
      "outputs": [
        {
          "output_type": "execute_result",
          "data": {
            "text/html": [
              "\n",
              "<div id=\"altair-viz-afb9aab1a8fb4f6ba16c7ab214638ba5\"></div>\n",
              "<script type=\"text/javascript\">\n",
              "  (function(spec, embedOpt){\n",
              "    let outputDiv = document.currentScript.previousElementSibling;\n",
              "    if (outputDiv.id !== \"altair-viz-afb9aab1a8fb4f6ba16c7ab214638ba5\") {\n",
              "      outputDiv = document.getElementById(\"altair-viz-afb9aab1a8fb4f6ba16c7ab214638ba5\");\n",
              "    }\n",
              "    const paths = {\n",
              "      \"vega\": \"https://cdn.jsdelivr.net/npm//vega@5?noext\",\n",
              "      \"vega-lib\": \"https://cdn.jsdelivr.net/npm//vega-lib?noext\",\n",
              "      \"vega-lite\": \"https://cdn.jsdelivr.net/npm//vega-lite@4.8.1?noext\",\n",
              "      \"vega-embed\": \"https://cdn.jsdelivr.net/npm//vega-embed@6?noext\",\n",
              "    };\n",
              "\n",
              "    function loadScript(lib) {\n",
              "      return new Promise(function(resolve, reject) {\n",
              "        var s = document.createElement('script');\n",
              "        s.src = paths[lib];\n",
              "        s.async = true;\n",
              "        s.onload = () => resolve(paths[lib]);\n",
              "        s.onerror = () => reject(`Error loading script: ${paths[lib]}`);\n",
              "        document.getElementsByTagName(\"head\")[0].appendChild(s);\n",
              "      });\n",
              "    }\n",
              "\n",
              "    function showError(err) {\n",
              "      outputDiv.innerHTML = `<div class=\"error\" style=\"color:red;\">${err}</div>`;\n",
              "      throw err;\n",
              "    }\n",
              "\n",
              "    function displayChart(vegaEmbed) {\n",
              "      vegaEmbed(outputDiv, spec, embedOpt)\n",
              "        .catch(err => showError(`Javascript Error: ${err.message}<br>This usually means there's a typo in your chart specification. See the javascript console for the full traceback.`));\n",
              "    }\n",
              "\n",
              "    if(typeof define === \"function\" && define.amd) {\n",
              "      requirejs.config({paths});\n",
              "      require([\"vega-embed\"], displayChart, err => showError(`Error loading script: ${err.message}`));\n",
              "    } else if (typeof vegaEmbed === \"function\") {\n",
              "      displayChart(vegaEmbed);\n",
              "    } else {\n",
              "      loadScript(\"vega\")\n",
              "        .then(() => loadScript(\"vega-lite\"))\n",
              "        .then(() => loadScript(\"vega-embed\"))\n",
              "        .catch(showError)\n",
              "        .then(() => displayChart(vegaEmbed));\n",
              "    }\n",
              "  })({\"config\": {\"view\": {\"continuousWidth\": 400, \"continuousHeight\": 300}}, \"layer\": [{\"mark\": \"line\", \"encoding\": {\"x\": {\"type\": \"ordinal\", \"axis\": {\"values\": [\"2014Q1\", \"2015Q1\", \"2016Q1\", \"2017Q1\", \"2018Q1\", \"2019Q1\", \"2020Q1\"]}, \"field\": \"quarter\"}, \"y\": {\"type\": \"quantitative\", \"field\": \"mean\"}}}, {\"mark\": {\"type\": \"area\", \"opacity\": 0.5}, \"encoding\": {\"x\": {\"type\": \"nominal\", \"field\": \"quarter\"}, \"y\": {\"type\": \"quantitative\", \"field\": \"pi_lower\"}, \"y2\": {\"field\": \"pi_upper\"}}}], \"data\": {\"url\": \"altair-data-1c53f01bb28206044350112f026e3c45.json\", \"format\": {\"type\": \"json\"}}, \"$schema\": \"https://vega.github.io/schema/vega-lite/v4.8.1.json\"}, {\"mode\": \"vega-lite\"});\n",
              "</script>"
            ],
            "text/plain": [
              "alt.LayerChart(...)"
            ]
          },
          "metadata": {
            "tags": []
          },
          "execution_count": 17
        }
      ]
    },
    {
      "cell_type": "markdown",
      "metadata": {
        "id": "ZEUhQhK0yGiw"
      },
      "source": [
        "## Forecasting with ARIMA\n",
        "\n",
        "Reproducing the example in [FPP2 section 8.7](https://otexts.com/fpp2/arima-r.html) for a non-seasonal model of monthly electrical equipment sales.\n",
        "\n",
        "### Get data: monthly electrical equipment orders"
      ]
    },
    {
      "cell_type": "code",
      "metadata": {
        "id": "gBy4y_6uyGiw",
        "outputId": "b91ee3cc-4cc7-4288-d8ed-d538dfa1fe10"
      },
      "source": [
        "ee_url = \"https://github.com/robjhyndman/fpp2-package/blob/master/data/elecequip.rda?raw=true\" \n",
        "ee_data = read_rda(ee_url)\n",
        "ee = pd.DataFrame(ee_data).set_index(\n",
        "    pd.period_range(start=\"1996-01\", end=\"2012-03\", freq=\"M\"))\n",
        "ee.head()"
      ],
      "execution_count": null,
      "outputs": [
        {
          "output_type": "execute_result",
          "data": {
            "text/html": [
              "<div>\n",
              "<style scoped>\n",
              "    .dataframe tbody tr th:only-of-type {\n",
              "        vertical-align: middle;\n",
              "    }\n",
              "\n",
              "    .dataframe tbody tr th {\n",
              "        vertical-align: top;\n",
              "    }\n",
              "\n",
              "    .dataframe thead th {\n",
              "        text-align: right;\n",
              "    }\n",
              "</style>\n",
              "<table border=\"1\" class=\"dataframe\">\n",
              "  <thead>\n",
              "    <tr style=\"text-align: right;\">\n",
              "      <th></th>\n",
              "      <th>elecequip</th>\n",
              "    </tr>\n",
              "  </thead>\n",
              "  <tbody>\n",
              "    <tr>\n",
              "      <th>1996-01</th>\n",
              "      <td>79.35</td>\n",
              "    </tr>\n",
              "    <tr>\n",
              "      <th>1996-02</th>\n",
              "      <td>75.78</td>\n",
              "    </tr>\n",
              "    <tr>\n",
              "      <th>1996-03</th>\n",
              "      <td>86.32</td>\n",
              "    </tr>\n",
              "    <tr>\n",
              "      <th>1996-04</th>\n",
              "      <td>72.60</td>\n",
              "    </tr>\n",
              "    <tr>\n",
              "      <th>1996-05</th>\n",
              "      <td>74.86</td>\n",
              "    </tr>\n",
              "  </tbody>\n",
              "</table>\n",
              "</div>"
            ],
            "text/plain": [
              "         elecequip\n",
              "1996-01      79.35\n",
              "1996-02      75.78\n",
              "1996-03      86.32\n",
              "1996-04      72.60\n",
              "1996-05      74.86"
            ]
          },
          "metadata": {
            "tags": []
          },
          "execution_count": 18
        }
      ]
    },
    {
      "cell_type": "markdown",
      "metadata": {
        "id": "gUL6tfnMyGiw"
      },
      "source": [
        "### Forecasting with `auto.arima`\n",
        "\n",
        "As in FPP2, we are going to build an ARIMA model on the seasonally adjusted data."
      ]
    },
    {
      "cell_type": "code",
      "metadata": {
        "id": "3VcV5CDcyGiw",
        "outputId": "eef7ad35-8882-46d5-d4e2-2e808cfc0e14"
      },
      "source": [
        "ee_stl = STL(ee.elecequip.values, period=12, robust=True).fit()\n",
        "ee_stl.plot();"
      ],
      "execution_count": null,
      "outputs": [
        {
          "output_type": "display_data",
          "data": {
            "image/png": "[encoded data removed]",
            "text/plain": [
              "<Figure size 432x288 with 4 Axes>"
            ]
          },
          "metadata": {
            "tags": [],
            "needs_background": "light"
          }
        }
      ]
    },
    {
      "cell_type": "code",
      "metadata": {
        "id": "s5yIM1LvyGix",
        "outputId": "f1007dd2-d52f-4b5c-ed08-a79196f398e1"
      },
      "source": [
        "from pmdarima import auto_arima, model_selection\n",
        "\n",
        "\n",
        "ee_adj = ee_stl.observed - ee_stl.seasonal\n",
        "ee_train, ee_test = model_selection.train_test_split(ee_adj, train_size=150)\n",
        "ee_arima = auto_arima(ee_train, error_action='ignore', trace=True,\n",
        "                      suppress_warnings=True, maxiter=10,\n",
        "                      seasonal=False)"
      ],
      "execution_count": null,
      "outputs": [
        {
          "output_type": "stream",
          "text": [
            "Performing stepwise search to minimize aic\n",
            " ARIMA(2,1,2)(0,0,0)[0] intercept   : AIC=707.575, Time=0.06 sec\n",
            " ARIMA(0,1,0)(0,0,0)[0] intercept   : AIC=724.165, Time=0.01 sec\n",
            " ARIMA(1,1,0)(0,0,0)[0] intercept   : AIC=715.304, Time=0.02 sec\n",
            " ARIMA(0,1,1)(0,0,0)[0] intercept   : AIC=713.256, Time=0.02 sec\n",
            " ARIMA(0,1,0)(0,0,0)[0]             : AIC=722.821, Time=0.01 sec\n",
            " ARIMA(1,1,2)(0,0,0)[0] intercept   : AIC=712.176, Time=0.04 sec\n",
            " ARIMA(2,1,1)(0,0,0)[0] intercept   : AIC=707.187, Time=0.04 sec\n",
            " ARIMA(1,1,1)(0,0,0)[0] intercept   : AIC=715.144, Time=0.03 sec\n",
            " ARIMA(2,1,0)(0,0,0)[0] intercept   : AIC=710.610, Time=0.03 sec\n",
            " ARIMA(3,1,1)(0,0,0)[0] intercept   : AIC=703.640, Time=0.05 sec\n",
            " ARIMA(3,1,0)(0,0,0)[0] intercept   : AIC=703.060, Time=0.03 sec\n",
            " ARIMA(4,1,0)(0,0,0)[0] intercept   : AIC=704.363, Time=0.05 sec\n",
            " ARIMA(4,1,1)(0,0,0)[0] intercept   : AIC=705.507, Time=0.06 sec\n",
            " ARIMA(3,1,0)(0,0,0)[0]             : AIC=702.067, Time=0.02 sec\n",
            " ARIMA(2,1,0)(0,0,0)[0]             : AIC=710.534, Time=0.02 sec\n",
            " ARIMA(4,1,0)(0,0,0)[0]             : AIC=703.193, Time=0.02 sec\n",
            " ARIMA(3,1,1)(0,0,0)[0]             : AIC=702.190, Time=0.03 sec\n",
            " ARIMA(2,1,1)(0,0,0)[0]             : AIC=706.917, Time=0.03 sec\n",
            " ARIMA(4,1,1)(0,0,0)[0]             : AIC=704.063, Time=0.04 sec\n",
            "\n",
            "Best model:  ARIMA(3,1,0)(0,0,0)[0]          \n",
            "Total fit time: 0.599 seconds\n"
          ],
          "name": "stdout"
        }
      ]
    },
    {
      "cell_type": "markdown",
      "metadata": {
        "id": "d5m_Y1gEyGix"
      },
      "source": [
        "`pmdarima` yields a ARIMA(3,1,1) model with an AIC = 676. The example in FPP2 manually selected ARIMA(3,1,1). Let's look at the predictions."
      ]
    },
    {
      "cell_type": "code",
      "metadata": {
        "id": "LCuIrrIXyGix"
      },
      "source": [
        "ee_predict, ee_ci = ee_arima.predict(ee_test.shape[0], return_conf_int=True)"
      ],
      "execution_count": null,
      "outputs": []
    },
    {
      "cell_type": "code",
      "metadata": {
        "id": "mba35HgoyGix"
      },
      "source": [
        "ee_forecast = (\n",
        "    pd.DataFrame(\n",
        "        {\n",
        "            \"predicted\": ee_predict,\n",
        "            \"actual\": ee_test.flatten(),\n",
        "        }\n",
        "    )\n",
        "    .join(pd.DataFrame(ee_ci).rename(columns={0: \"lower_ci\", 1: \"upper_ci\"}))\n",
        "#     .stack()\n",
        "    .reset_index()\n",
        "#     .rename(columns={\"level_0\": \"index\", \"level_1\": \"label\"})\n",
        ")\n",
        "line_predicted_elec = (\n",
        "    alt.Chart(ee_forecast)\n",
        "    .mark_line()\n",
        "    .encode(x=\"index:O\", y=\"predicted:Q\")\n",
        "    .properties(width=800)\n",
        ")\n",
        "line_actual_elec = line_predicted_elec.mark_line(color='orange').encode(x=\"index:O\", y=\"actual\")\n",
        "band_elec = line_predicted_elec.mark_area(opacity=0.5).encode(x=\"index\", y=\"lower_ci:Q\", y2=\"upper_ci:Q\")"
      ],
      "execution_count": null,
      "outputs": []
    },
    {
      "cell_type": "code",
      "metadata": {
        "id": "FvYE6a4JyGiy",
        "outputId": "b4cfe27c-5788-4feb-c2a5-c38015d2a2e8"
      },
      "source": [
        "#TODO: fix top x-axis\n",
        "line_predicted_elec + line_actual_elec + band_elec"
      ],
      "execution_count": null,
      "outputs": [
        {
          "output_type": "execute_result",
          "data": {
            "text/html": [
              "\n",
              "<div id=\"altair-viz-af93caac7063467b888118acb16051a4\"></div>\n",
              "<script type=\"text/javascript\">\n",
              "  (function(spec, embedOpt){\n",
              "    let outputDiv = document.currentScript.previousElementSibling;\n",
              "    if (outputDiv.id !== \"altair-viz-af93caac7063467b888118acb16051a4\") {\n",
              "      outputDiv = document.getElementById(\"altair-viz-af93caac7063467b888118acb16051a4\");\n",
              "    }\n",
              "    const paths = {\n",
              "      \"vega\": \"https://cdn.jsdelivr.net/npm//vega@5?noext\",\n",
              "      \"vega-lib\": \"https://cdn.jsdelivr.net/npm//vega-lib?noext\",\n",
              "      \"vega-lite\": \"https://cdn.jsdelivr.net/npm//vega-lite@4.8.1?noext\",\n",
              "      \"vega-embed\": \"https://cdn.jsdelivr.net/npm//vega-embed@6?noext\",\n",
              "    };\n",
              "\n",
              "    function loadScript(lib) {\n",
              "      return new Promise(function(resolve, reject) {\n",
              "        var s = document.createElement('script');\n",
              "        s.src = paths[lib];\n",
              "        s.async = true;\n",
              "        s.onload = () => resolve(paths[lib]);\n",
              "        s.onerror = () => reject(`Error loading script: ${paths[lib]}`);\n",
              "        document.getElementsByTagName(\"head\")[0].appendChild(s);\n",
              "      });\n",
              "    }\n",
              "\n",
              "    function showError(err) {\n",
              "      outputDiv.innerHTML = `<div class=\"error\" style=\"color:red;\">${err}</div>`;\n",
              "      throw err;\n",
              "    }\n",
              "\n",
              "    function displayChart(vegaEmbed) {\n",
              "      vegaEmbed(outputDiv, spec, embedOpt)\n",
              "        .catch(err => showError(`Javascript Error: ${err.message}<br>This usually means there's a typo in your chart specification. See the javascript console for the full traceback.`));\n",
              "    }\n",
              "\n",
              "    if(typeof define === \"function\" && define.amd) {\n",
              "      requirejs.config({paths});\n",
              "      require([\"vega-embed\"], displayChart, err => showError(`Error loading script: ${err.message}`));\n",
              "    } else if (typeof vegaEmbed === \"function\") {\n",
              "      displayChart(vegaEmbed);\n",
              "    } else {\n",
              "      loadScript(\"vega\")\n",
              "        .then(() => loadScript(\"vega-lite\"))\n",
              "        .then(() => loadScript(\"vega-embed\"))\n",
              "        .catch(showError)\n",
              "        .then(() => displayChart(vegaEmbed));\n",
              "    }\n",
              "  })({\"config\": {\"view\": {\"continuousWidth\": 400, \"continuousHeight\": 300}}, \"layer\": [{\"mark\": \"line\", \"encoding\": {\"x\": {\"type\": \"ordinal\", \"field\": \"index\"}, \"y\": {\"type\": \"quantitative\", \"field\": \"predicted\"}}, \"width\": 800}, {\"mark\": {\"type\": \"line\", \"color\": \"orange\"}, \"encoding\": {\"x\": {\"type\": \"ordinal\", \"field\": \"index\"}, \"y\": {\"type\": \"quantitative\", \"field\": \"actual\"}}, \"width\": 800}, {\"mark\": {\"type\": \"area\", \"opacity\": 0.5}, \"encoding\": {\"x\": {\"type\": \"quantitative\", \"field\": \"index\"}, \"y\": {\"type\": \"quantitative\", \"field\": \"lower_ci\"}, \"y2\": {\"field\": \"upper_ci\"}}, \"width\": 800}], \"data\": {\"url\": \"altair-data-46a6a04c88038762090b556951da8bc7.json\", \"format\": {\"type\": \"json\"}}, \"$schema\": \"https://vega.github.io/schema/vega-lite/v4.8.1.json\"}, {\"mode\": \"vega-lite\"});\n",
              "</script>"
            ],
            "text/plain": [
              "alt.LayerChart(...)"
            ]
          },
          "metadata": {
            "tags": []
          },
          "execution_count": 23
        }
      ]
    },
    {
      "cell_type": "code",
      "metadata": {
        "id": "9FQn2FP4yGiy",
        "outputId": "a54d4ae8-9863-4a75-cd5e-d5431f65566a"
      },
      "source": [
        "from statsmodels.graphics.tsaplots import plot_acf, plot_pacf\n",
        "ee_residuals = ee_arima.predict_in_sample() - ee_train\n",
        "plot_acf(ee_residuals);"
      ],
      "execution_count": null,
      "outputs": [
        {
          "output_type": "display_data",
          "data": {
            "image/png": "[encoded data removed]",
            "text/plain": [
              "<Figure size 432x288 with 1 Axes>"
            ]
          },
          "metadata": {
            "tags": [],
            "needs_background": "light"
          }
        }
      ]
    },
    {
      "cell_type": "code",
      "metadata": {
        "id": "VoC5syXMyGiz",
        "outputId": "88435d1f-0fbe-4f10-b357-09f9e30fe939"
      },
      "source": [
        "plot_pacf(ee_residuals);"
      ],
      "execution_count": null,
      "outputs": [
        {
          "output_type": "display_data",
          "data": {
            "image/png": "[encoded data removed]",
            "text/plain": [
              "<Figure size 432x288 with 1 Axes>"
            ]
          },
          "metadata": {
            "tags": [],
            "needs_background": "light"
          }
        }
      ]
    },
    {
      "cell_type": "code",
      "metadata": {
        "id": "guloebEdyGiz",
        "outputId": "acf58a0c-be48-4e4e-a6b8-fda2dd4eb3f3"
      },
      "source": [
        "#TODO: weird outlier at -80?\n",
        "alt.Chart(pd.DataFrame({\"residuals\": ee_residuals})).mark_bar().encode(\n",
        "    alt.X(\"residuals:Q\", bin=alt.Bin(maxbins=30)), y=\"count():Q\"\n",
        ")"
      ],
      "execution_count": null,
      "outputs": [
        {
          "output_type": "execute_result",
          "data": {
            "text/html": [
              "\n",
              "<div id=\"altair-viz-6f0efd04334f4e90a33f751453d4fa0e\"></div>\n",
              "<script type=\"text/javascript\">\n",
              "  (function(spec, embedOpt){\n",
              "    let outputDiv = document.currentScript.previousElementSibling;\n",
              "    if (outputDiv.id !== \"altair-viz-6f0efd04334f4e90a33f751453d4fa0e\") {\n",
              "      outputDiv = document.getElementById(\"altair-viz-6f0efd04334f4e90a33f751453d4fa0e\");\n",
              "    }\n",
              "    const paths = {\n",
              "      \"vega\": \"https://cdn.jsdelivr.net/npm//vega@5?noext\",\n",
              "      \"vega-lib\": \"https://cdn.jsdelivr.net/npm//vega-lib?noext\",\n",
              "      \"vega-lite\": \"https://cdn.jsdelivr.net/npm//vega-lite@4.8.1?noext\",\n",
              "      \"vega-embed\": \"https://cdn.jsdelivr.net/npm//vega-embed@6?noext\",\n",
              "    };\n",
              "\n",
              "    function loadScript(lib) {\n",
              "      return new Promise(function(resolve, reject) {\n",
              "        var s = document.createElement('script');\n",
              "        s.src = paths[lib];\n",
              "        s.async = true;\n",
              "        s.onload = () => resolve(paths[lib]);\n",
              "        s.onerror = () => reject(`Error loading script: ${paths[lib]}`);\n",
              "        document.getElementsByTagName(\"head\")[0].appendChild(s);\n",
              "      });\n",
              "    }\n",
              "\n",
              "    function showError(err) {\n",
              "      outputDiv.innerHTML = `<div class=\"error\" style=\"color:red;\">${err}</div>`;\n",
              "      throw err;\n",
              "    }\n",
              "\n",
              "    function displayChart(vegaEmbed) {\n",
              "      vegaEmbed(outputDiv, spec, embedOpt)\n",
              "        .catch(err => showError(`Javascript Error: ${err.message}<br>This usually means there's a typo in your chart specification. See the javascript console for the full traceback.`));\n",
              "    }\n",
              "\n",
              "    if(typeof define === \"function\" && define.amd) {\n",
              "      requirejs.config({paths});\n",
              "      require([\"vega-embed\"], displayChart, err => showError(`Error loading script: ${err.message}`));\n",
              "    } else if (typeof vegaEmbed === \"function\") {\n",
              "      displayChart(vegaEmbed);\n",
              "    } else {\n",
              "      loadScript(\"vega\")\n",
              "        .then(() => loadScript(\"vega-lite\"))\n",
              "        .then(() => loadScript(\"vega-embed\"))\n",
              "        .catch(showError)\n",
              "        .then(() => displayChart(vegaEmbed));\n",
              "    }\n",
              "  })({\"config\": {\"view\": {\"continuousWidth\": 400, \"continuousHeight\": 300}}, \"data\": {\"url\": \"altair-data-a1675168fea60d9b64a4f5256b66dd45.json\", \"format\": {\"type\": \"json\"}}, \"mark\": \"bar\", \"encoding\": {\"x\": {\"type\": \"quantitative\", \"bin\": {\"maxbins\": 30}, \"field\": \"residuals\"}, \"y\": {\"type\": \"quantitative\", \"aggregate\": \"count\"}}, \"$schema\": \"https://vega.github.io/schema/vega-lite/v4.8.1.json\"}, {\"mode\": \"vega-lite\"});\n",
              "</script>"
            ],
            "text/plain": [
              "alt.Chart(...)"
            ]
          },
          "metadata": {
            "tags": []
          },
          "execution_count": 26
        }
      ]
    }
  ]
}