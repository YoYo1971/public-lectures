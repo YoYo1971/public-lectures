{
 "cells": [
  {
   "cell_type": "markdown",
   "metadata": {
    "id": "Zz70Up6bOCiz",
    "slideshow": {
     "slide_type": "slide"
    }
   },
   "source": [
    "# Interactive data visualisation with Python\n",
    "\n",
    "_This work is licensed under a [Creative Commons BY-SA 4.0 License](http://creativecommons.org/licenses/by-sa/4.0/)_\n",
    "\n",
    "<br><br><br><br>\n",
    "__Daniel Kapitan__<br>\n",
    "`e. d.kapitan@jads.nl`<br>\n",
    "`w. https://kapitan.net`<br>\n",
    "\n",
    "\n",
    "\n",
    "<img style=\"float: left\" src=\"https://github.com/jads-nl/public-lectures/blob/main/logos/jads-gold-250x60.png?raw=true\">\n",
    "\n",
    "\n"
   ]
  },
  {
   "cell_type": "markdown",
   "metadata": {
    "slideshow": {
     "slide_type": "subslide"
    }
   },
   "source": [
    "## The Python Visualisation Landscape\n",
    "\n",
    "![](https://github.com/rougier/python-visualization-landscape/blob/master/landscape-colors.png?raw=true)"
   ]
  },
  {
   "cell_type": "markdown",
   "metadata": {
    "slideshow": {
     "slide_type": "subslide"
    }
   },
   "source": [
    "### Can't see the forest for the trees?\n",
    "- [PyViz.org](https://pyviz.org/) attempts to shine light on common patterns and use cases, comparing or discussing multiple plotting libraries. Have a look at [Bence Arató's talk at EuroPython 2020 (30 min.)](https://youtu.be/35e0Chuxqi0) if you prefer a video.\n",
    "- Use Wilkinson's [Grammar of Graphics](https://github.com/jads-nl/public-lectures/blob/main/visualisation/bibliography/wilkinson2010grammar.pdf) and Wickham's extension of ggplot2 [Layered Grammar of Graphics](https://github.com/jads-nl/public-lectures/blob/main/visualisation/bibliography//wickham2010layered-grammar.pdf) as the conceptual framework for understanding _how_ a good, interactive visualisations are build. \n",
    "- Go through the slides and online resources of Sara Sprinkhuizen's lecture on [Data visualisation](https://www.thedatavisionlab.com/blog/jads) to gain a better understanding _what_ makes a good data viz. This won't be covered in this lecture."
   ]
  },
  {
   "cell_type": "markdown",
   "metadata": {
    "slideshow": {
     "slide_type": "subslide"
    }
   },
   "source": [
    "### Learning objectives\n",
    "\n",
    "- Know how to apply a grammar of _interactions_ to make interactive charts with the most commonly used Python graphing libraries (bokeh, plotly, altair)\n",
    "- Know how to make single-page apps in Jupyter notebook with the most commonly used Python dashboarding and analytic app libraries (panel, plotly dash)  "
   ]
  },
  {
   "cell_type": "markdown",
   "metadata": {
    "slideshow": {
     "slide_type": "subslide"
    }
   },
   "source": [
    "### Comparing different implementations of Gapminder\n",
    "\n",
    "- Apply Grammar of (Interactive) Graphics to dissect different implementations of Gapminder\n",
    "- Look into under the hood to get better understanding how everything works, so you can do better debugging\n",
    "- ..."
   ]
  },
  {
   "cell_type": "markdown",
   "metadata": {
    "slideshow": {
     "slide_type": "slide"
    }
   },
   "source": [
    "## Grammar of (Interactive) Graphics"
   ]
  },
  {
   "cell_type": "markdown",
   "metadata": {
    "slideshow": {
     "slide_type": "fragment"
    }
   },
   "source": [
    "### Leland's seven classes\n",
    "\n",
    "| GoG class | Description | Comment |\n",
    "|:----------|:------------|:--------|\n",
    "|__1. Varset__ | A set of one or more variables | More generic definition than just a table or `dataframe` |\n",
    "|__2. Algebra__ | Produce combinations of variables | Join, concatenate, group by |\n",
    "|__3. Scales__ | Scale variables | Transformation like taking log or normalizing |\n",
    "|__4. Statistics__ | Compute statistical summeries | Generates a new varset |\n",
    "|__5. Geometry__ | Control the type of plot | point, line, area, path, bar, polygon, edge etc. |\n",
    "|__6. Coordinates__ | The coordinate system and faceting | Usually Cartesian, but also polar or geographic coordinates |\n",
    "|__7. Aesthetics__ | Actual mapping of variables to a perceivable graphic | Visual variables include position, size, shape, orientation, brightness, color, granularity. For interactive graphics also blur, sound and motion. |"
   ]
  },
  {
   "cell_type": "code",
   "execution_count": null,
   "metadata": {},
   "outputs": [],
   "source": []
  },
  {
   "cell_type": "code",
   "execution_count": null,
   "metadata": {
    "slideshow": {
     "slide_type": "subslide"
    }
   },
   "outputs": [],
   "source": [
    "\n",
    "[Plotly](https://plotly.com) is a set of libraries ..."
   ]
  },
  {
   "cell_type": "markdown",
   "metadata": {
    "id": "qmPlh7PldCG-",
    "slideshow": {
     "slide_type": "subslide"
    }
   },
   "source": [
    "## Plotly\n",
    "![](https://github.com/jads-nl/public-lectures/blob/main/visualisation/plotly-figure-overview.svg?raw=true)"
   ]
  },
  {
   "cell_type": "code",
   "execution_count": null,
   "metadata": {},
   "outputs": [],
   "source": [
    "import altair as alt\n",
    "from vega_datasets import data\n",
    "\n",
    "cars = data.cars.url\n",
    "\n",
    "alt.Chart(cars).mark_point().encode(\n",
    "    x='Miles_per_Gallon:Q',\n",
    "    y='Horsepower:Q',\n",
    "    color='Origin:N'\n",
    ")"
   ]
  },
  {
   "cell_type": "markdown",
   "metadata": {
    "id": "wTPL8fiIc923"
   },
   "source": [
    "### pandas backend\n",
    "\n",
    "With newest version you can access `plotly.express` directly from `pandas`.\n",
    "\n",
    "- https://medium.com/plotly/plotly-py-4-0-is-here-offline-only-express-first-displayable-anywhere-fc444e5659ee\n",
    "- https://plotly.com/python/plotly-express/\n",
    "- https://plotly.com/python/pandas-backend/"
   ]
  },
  {
   "cell_type": "code",
   "execution_count": null,
   "metadata": {
    "colab": {
     "base_uri": "https://localhost:8080/"
    },
    "id": "ulo5LuKGNsb2",
    "outputId": "3384c0bd-7d49-42c1-a5a4-078cbf29eba4"
   },
   "outputs": [],
   "source": [
    "!pip install plotly==4.12.0\n",
    "import pandas as pd\n",
    "import plotly.express as px\n",
    "from plotly.subplots import make_subplots\n",
    "\n",
    "pd.options.plotting.backend = 'plotly'"
   ]
  },
  {
   "cell_type": "code",
   "execution_count": null,
   "metadata": {
    "id": "g2Urjv7NO9Tm"
   },
   "outputs": [],
   "source": [
    "# Ames Housing dataset\n",
    "ames = pd.read_csv('https://github.com/jads-nl/discover-projects/blob/main/ames-housing/AmesHousing.csv?raw=true')"
   ]
  },
  {
   "cell_type": "code",
   "execution_count": null,
   "metadata": {
    "colab": {
     "base_uri": "https://localhost:8080/",
     "height": 542
    },
    "id": "6zH7ipqeQANP",
    "outputId": "e451ec2b-001e-4a67-ed4a-7cab19cebcb9"
   },
   "outputs": [],
   "source": [
    "ames.SalePrice.hist()"
   ]
  },
  {
   "cell_type": "markdown",
   "metadata": {
    "id": "P4MDxLy7dWxx"
   },
   "source": [
    "### Express"
   ]
  },
  {
   "cell_type": "markdown",
   "metadata": {
    "id": "aapvzvd8T2Eb"
   },
   "source": [
    "#### Subplots\n",
    "Plotly Express does not support arbitrary subplot capabilities, instead it supports faceting by a given data dimension, and it also supports marginal charts to display distribution information.\n",
    "\n",
    "To make arbitrary subplots, use the lower-level `plotly.subplots` module and the `make_subplots` function.Plotly Express faceting uses make_subplots internally so adding traces to Plotly Express facets works just as documented here, with fig.add_trace(..., row=<R>, col=<C>).\n",
    "\n",
    "\n",
    "Since `plotly.express` returns a `Figure` and `fig.add_trace` requires you to add traces, you can access the first trace of a figure with and add that to the subplot.\n",
    "\n",
    "Composition is still under development in plotly, see these GitHub issues:\n",
    "- [PX figure composition](https://github.com/plotly/plotly.py/issues/2647)\n",
    "- [subplots with plotly express](https://github.com/plotly/plotly_express/issues/83)\n"
   ]
  },
  {
   "cell_type": "code",
   "execution_count": null,
   "metadata": {
    "colab": {
     "base_uri": "https://localhost:8080/",
     "height": 542
    },
    "id": "2S7-adVNQB6m",
    "outputId": "8b952328-9754-4c03-b4ba-4d1bc46c5b3b"
   },
   "outputs": [],
   "source": [
    "# subplots via px\n",
    "fig = make_subplots(rows=1, cols=2)\n",
    "fig.add_trace(ames.SalePrice.hist()._data[0], row=1, col=1)\n",
    "fig.add_trace(ames['Year Built'].hist()._data[0], row=1, col =2)\n",
    "\n",
    "# known issue: https://github.com/plotly/plotly.py/issues/2647#issuecomment-731562248\n",
    "fig.update_traces(bingroup=None)"
   ]
  },
  {
   "cell_type": "markdown",
   "metadata": {
    "id": "C1B-6cJDdpsZ"
   },
   "source": [
    "#### Animation: Gapminder in less than 10 lines of code"
   ]
  },
  {
   "cell_type": "code",
   "execution_count": null,
   "metadata": {
    "colab": {
     "base_uri": "https://localhost:8080/",
     "height": 542
    },
    "id": "HYfzw4pBg75s",
    "outputId": "b36a235a-7ea3-499c-ea22-b97e8be9ccb1"
   },
   "outputs": [],
   "source": [
    "gapminder = px.data.gapminder()\n",
    "gapminder_animate = px.scatter(gapminder, x=\"gdpPercap\", y=\"lifeExp\", animation_frame=\"year\", animation_group=\"country\",\n",
    "           size=\"pop\", color=\"continent\", hover_name=\"country\", facet_col=\"continent\",\n",
    "           log_x=True, size_max=45, range_x=[100,100000], range_y=[25,90])\n",
    "gapminder_animate.show()"
   ]
  },
  {
   "cell_type": "code",
   "execution_count": null,
   "metadata": {
    "colab": {
     "base_uri": "https://localhost:8080/",
     "height": 204
    },
    "id": "yKQ-2K6TeRcR",
    "outputId": "4983790f-43f5-4fd1-bc5f-d183ed25dc85"
   },
   "outputs": [],
   "source": [
    "df.head()"
   ]
  },
  {
   "cell_type": "markdown",
   "metadata": {
    "id": "HL8e69X4b8lb"
   },
   "source": [
    "## Dash\n",
    "\n",
    "![](https://storage.googleapis.com/hackersandslackers-cdn/2018/12/_retina/Dash@2x.jpg)"
   ]
  },
  {
   "cell_type": "markdown",
   "metadata": {
    "id": "7jYTTfJTcAga"
   },
   "source": [
    "### [Layout](https://dash.plotly.com/layout)\n",
    "\n",
    "- Use `div` to layout a page\n",
    "- Each `div` can contain a `Figure` or a [Dash Core Component (`dcc`)](https://dash.plotly.com/dash-core-components) with 19 different interactive controls"
   ]
  },
  {
   "cell_type": "markdown",
   "metadata": {
    "id": "5qNwUMAnlvNF"
   },
   "source": [
    "### [Basic callbacks](https://dash.plotly.com/basic-callbacks)\n"
   ]
  },
  {
   "cell_type": "markdown",
   "metadata": {
    "id": "N1oYWbOEmAaL"
   },
   "source": [
    "### [Interactive graphing and cross-filtering](https://dash.plotly.com/interactive-graphing)"
   ]
  },
  {
   "cell_type": "code",
   "execution_count": null,
   "metadata": {
    "id": "z4u1Itgacx_Q"
   },
   "outputs": [],
   "source": [
    "!pip install jupyter-dash\n",
    "from jupyter_dash import JupyterDash\n",
    "import dash\n",
    "import dash_core_components as dcc\n",
    "import dash_html_components as html"
   ]
  },
  {
   "cell_type": "markdown",
   "metadata": {
    "id": "bl-z1Op525Ka"
   },
   "source": [
    "## Advanced usage and app development\n",
    "\n",
    "- Single-Page Apps (SPAs) are do-able\n",
    "- Beware when you are moving into advanced development territory\n",
    "  - [Multi-page apps](https://dash.plotly.com/urls)\n",
    "  - [Sharing data between callbacks](https://dash.plotly.com/sharing-data-between-callbacks): when your datasets get too large, you need to store it somewhere and keep track of state of your dataset. Note that [bokeh](https://bokeh.org) - as the other most commonly used interactive viz library - has better solutions for this with their [ColumnDataSource](https://docs.bokeh.org/en/latest/docs/user_guide/data.html) object\n",
    "  - Working with callbacks does have limitations. If you notice that you need to nest callbacks (callback A -> callback B -> callback C -> final result), you are on your way to the Callback Hell a.k.a. the [Pyramid of Doom](https://javascript.info/callbacks#pyramid-of-doom). Stop and reconsider before continuing.\n",
    "  "
   ]
  },
  {
   "cell_type": "code",
   "execution_count": null,
   "metadata": {
    "id": "PFhL1Cfvho0F"
   },
   "outputs": [],
   "source": [
    "df = pd.read_csv('https://plotly.github.io/datasets/country_indicators.csv')\n",
    "available_indicators = df['Indicator Name'].unique()"
   ]
  },
  {
   "cell_type": "code",
   "execution_count": null,
   "metadata": {
    "colab": {
     "base_uri": "https://localhost:8080/",
     "height": 51
    },
    "id": "fuZPHRKBhKjd",
    "outputId": "ca248ae9-8688-4874-970f-7decca765405"
   },
   "outputs": [],
   "source": [
    "\n",
    "external_stylesheets = ['https://codepen.io/chriddyp/pen/bWLwgP.css']\n",
    "\n",
    "app = JupyterDash(__name__, external_stylesheets=external_stylesheets)\n",
    "\n",
    "# Create server variable with Flask server object for use with gunicorn\n",
    "server = app.server\n",
    "\n",
    "app.layout = html.Div([\n",
    "    html.Div([\n",
    "\n",
    "        html.Div([\n",
    "            dcc.Dropdown(\n",
    "                id='crossfilter-xaxis-column',\n",
    "                options=[{'label': i, 'value': i} for i in available_indicators],\n",
    "                value='Fertility rate, total (births per woman)'\n",
    "            ),\n",
    "            dcc.RadioItems(\n",
    "                id='crossfilter-xaxis-type',\n",
    "                options=[{'label': i, 'value': i} for i in ['Linear', 'Log']],\n",
    "                value='Linear',\n",
    "                labelStyle={'display': 'inline-block'}\n",
    "            )\n",
    "        ],\n",
    "        style={'width': '49%', 'display': 'inline-block'}),\n",
    "\n",
    "        html.Div([\n",
    "            dcc.Dropdown(\n",
    "                id='crossfilter-yaxis-column',\n",
    "                options=[{'label': i, 'value': i} for i in available_indicators],\n",
    "                value='Life expectancy at birth, total (years)'\n",
    "            ),\n",
    "            dcc.RadioItems(\n",
    "                id='crossfilter-yaxis-type',\n",
    "                options=[{'label': i, 'value': i} for i in ['Linear', 'Log']],\n",
    "                value='Linear',\n",
    "                labelStyle={'display': 'inline-block'}\n",
    "            )\n",
    "        ], style={'width': '49%', 'float': 'right', 'display': 'inline-block'})\n",
    "    ], style={\n",
    "        'borderBottom': 'thin lightgrey solid',\n",
    "        'backgroundColor': 'rgb(250, 250, 250)',\n",
    "        'padding': '10px 5px'\n",
    "    }),\n",
    "\n",
    "    html.Div([\n",
    "        dcc.Graph(\n",
    "            id='crossfilter-indicator-scatter',\n",
    "            hoverData={'points': [{'customdata': 'Japan'}]}\n",
    "        )\n",
    "    ], style={'width': '49%', 'display': 'inline-block', 'padding': '0 20'}),\n",
    "    html.Div([\n",
    "        dcc.Graph(id='x-time-series'),\n",
    "        dcc.Graph(id='y-time-series'),\n",
    "    ], style={'display': 'inline-block', 'width': '49%'}),\n",
    "\n",
    "    html.Div(dcc.Slider(\n",
    "        id='crossfilter-year--slider',\n",
    "        min=df['Year'].min(),\n",
    "        max=df['Year'].max(),\n",
    "        value=df['Year'].max(),\n",
    "        marks={str(year): str(year) for year in df['Year'].unique()},\n",
    "        step=None\n",
    "    ), style={'width': '49%', 'padding': '0px 20px 20px 20px'})\n",
    "])\n",
    "\n",
    "\n",
    "@app.callback(\n",
    "    dash.dependencies.Output('crossfilter-indicator-scatter', 'figure'),\n",
    "    [dash.dependencies.Input('crossfilter-xaxis-column', 'value'),\n",
    "     dash.dependencies.Input('crossfilter-yaxis-column', 'value'),\n",
    "     dash.dependencies.Input('crossfilter-xaxis-type', 'value'),\n",
    "     dash.dependencies.Input('crossfilter-yaxis-type', 'value'),\n",
    "     dash.dependencies.Input('crossfilter-year--slider', 'value')])\n",
    "def update_graph(xaxis_column_name, yaxis_column_name,\n",
    "                 xaxis_type, yaxis_type,\n",
    "                 year_value):\n",
    "    dff = df[df['Year'] == year_value]\n",
    "\n",
    "    return {\n",
    "        'data': [dict(\n",
    "            x=dff[dff['Indicator Name'] == xaxis_column_name]['Value'],\n",
    "            y=dff[dff['Indicator Name'] == yaxis_column_name]['Value'],\n",
    "            text=dff[dff['Indicator Name'] == yaxis_column_name]['Country Name'],\n",
    "            customdata=dff[dff['Indicator Name'] == yaxis_column_name]['Country Name'],\n",
    "            mode='markers',\n",
    "            marker={\n",
    "                'size': 25,\n",
    "                'opacity': 0.7,\n",
    "                'color': 'orange',\n",
    "                'line': {'width': 2, 'color': 'purple'}\n",
    "            }\n",
    "        )],\n",
    "        'layout': dict(\n",
    "            xaxis={\n",
    "                'title': xaxis_column_name,\n",
    "                'type': 'linear' if xaxis_type == 'Linear' else 'log'\n",
    "            },\n",
    "            yaxis={\n",
    "                'title': yaxis_column_name,\n",
    "                'type': 'linear' if yaxis_type == 'Linear' else 'log'\n",
    "            },\n",
    "            margin={'l': 40, 'b': 30, 't': 10, 'r': 0},\n",
    "            height=450,\n",
    "            hovermode='closest'\n",
    "        )\n",
    "    }\n",
    "\n",
    "\n",
    "def create_time_series(dff, axis_type, title):\n",
    "    return {\n",
    "        'data': [dict(\n",
    "            x=dff['Year'],\n",
    "            y=dff['Value'],\n",
    "            mode='lines+markers'\n",
    "        )],\n",
    "        'layout': {\n",
    "            'height': 225,\n",
    "            'margin': {'l': 20, 'b': 30, 'r': 10, 't': 10},\n",
    "            'annotations': [{\n",
    "                'x': 0, 'y': 0.85, 'xanchor': 'left', 'yanchor': 'bottom',\n",
    "                'xref': 'paper', 'yref': 'paper', 'showarrow': False,\n",
    "                'align': 'left', 'bgcolor': 'rgba(255, 255, 255, 0.5)',\n",
    "                'text': title\n",
    "            }],\n",
    "            'yaxis': {'type': 'linear' if axis_type == 'Linear' else 'log'},\n",
    "            'xaxis': {'showgrid': False}\n",
    "        }\n",
    "    }\n",
    "\n",
    "\n",
    "@app.callback(\n",
    "    dash.dependencies.Output('x-time-series', 'figure'),\n",
    "    [dash.dependencies.Input('crossfilter-indicator-scatter', 'hoverData'),\n",
    "     dash.dependencies.Input('crossfilter-xaxis-column', 'value'),\n",
    "     dash.dependencies.Input('crossfilter-xaxis-type', 'value')])\n",
    "def update_y_timeseries(hoverData, xaxis_column_name, axis_type):\n",
    "    country_name = hoverData['points'][0]['customdata']\n",
    "    dff = df[df['Country Name'] == country_name]\n",
    "    dff = dff[dff['Indicator Name'] == xaxis_column_name]\n",
    "    title = '<b>{}</b><br>{}'.format(country_name, xaxis_column_name)\n",
    "    return create_time_series(dff, axis_type, title)\n",
    "\n",
    "\n",
    "@app.callback(\n",
    "    dash.dependencies.Output('y-time-series', 'figure'),\n",
    "    [dash.dependencies.Input('crossfilter-indicator-scatter', 'hoverData'),\n",
    "     dash.dependencies.Input('crossfilter-yaxis-column', 'value'),\n",
    "     dash.dependencies.Input('crossfilter-yaxis-type', 'value')])\n",
    "def update_x_timeseries(hoverData, yaxis_column_name, axis_type):\n",
    "    dff = df[df['Country Name'] == hoverData['points'][0]['customdata']]\n",
    "    dff = dff[dff['Indicator Name'] == yaxis_column_name]\n",
    "    return create_time_series(dff, axis_type, yaxis_column_name)\n",
    "\n",
    "app.run_server(mode='external')\n"
   ]
  }
 ],
 "metadata": {
  "celltoolbar": "Slideshow",
  "colab": {
   "collapsed_sections": [],
   "name": "plotly-for-exploratory-data-analysis.ipynb",
   "provenance": [],
   "toc_visible": true
  },
  "kernelspec": {
   "display_name": "Python 3",
   "language": "python",
   "name": "python3"
  },
  "language_info": {
   "codemirror_mode": {
    "name": "ipython",
    "version": 3
   },
   "file_extension": ".py",
   "mimetype": "text/x-python",
   "name": "python",
   "nbconvert_exporter": "python",
   "pygments_lexer": "ipython3",
   "version": "3.8.5"
  },
  "rise": {
   "enable_chalkboard": true,
   "scroll": true,
   "theme": "white"
  },
  "toc": {
   "base_numbering": 1,
   "nav_menu": {},
   "number_sections": false,
   "sideBar": true,
   "skip_h1_title": false,
   "title_cell": "Table of Contents",
   "title_sidebar": "Contents",
   "toc_cell": false,
   "toc_position": {},
   "toc_section_display": true,
   "toc_window_display": false
  },
  "varInspector": {
   "cols": {
    "lenName": 16,
    "lenType": 16,
    "lenVar": 40
   },
   "kernels_config": {
    "python": {
     "delete_cmd_postfix": "",
     "delete_cmd_prefix": "del ",
     "library": "var_list.py",
     "varRefreshCmd": "print(var_dic_list())"
    },
    "r": {
     "delete_cmd_postfix": ") ",
     "delete_cmd_prefix": "rm(",
     "library": "var_list.r",
     "varRefreshCmd": "cat(var_dic_list()) "
    }
   },
   "types_to_exclude": [
    "module",
    "function",
    "builtin_function_or_method",
    "instance",
    "_Feature"
   ],
   "window_display": false
  }
 },
 "nbformat": 4,
 "nbformat_minor": 1
}
