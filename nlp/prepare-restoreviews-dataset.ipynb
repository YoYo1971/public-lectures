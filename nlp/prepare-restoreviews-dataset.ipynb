{
 "cells": [
  {
   "cell_type": "code",
   "execution_count": 45,
   "metadata": {},
   "outputs": [],
   "source": [
    "import pandas as pd\n",
    "\n",
    "\n",
    "REVIEWS = (\n",
    "    \"https://bhciaaablob.blob.core.windows.net/cmotionsnlpblogs/RestoReviewRawdata.csv\"\n",
    ")\n",
    "resto = pd.read_csv(REVIEWS, decimal=\",\")\n",
    "\n",
    "# fix utf-8 encoding\n",
    "resto.reviewText = resto.reviewText.fillna(\"b''\").apply(\n",
    "    lambda b: eval(b + \".decode('utf-8')\")\n",
    ")\n",
    "\n",
    "# write to single file\n",
    "resto.to_csv(\"data/dutch-restaurant-reviews.csv\")\n",
    "resto.to_parquet(\"data/dutch-restaurant-reviews.parquet\")\n",
    "\n",
    "# write to partitioned parquet files\n",
    "resto[\"reviewYear\"] = resto.reviewDate.str[-4:].astype(\"float\").astype(\"Int64\")\n",
    "resto.to_parquet(\n",
    "    \"data/dutch-restaurant-reviews-per-year\", partition_cols=[\"reviewYear\"]\n",
    ")"
   ]
  },
  {
   "cell_type": "code",
   "execution_count": 47,
   "metadata": {},
   "outputs": [],
   "source": []
  }
 ],
 "metadata": {
  "kernelspec": {
   "display_name": "Python 3",
   "language": "python",
   "name": "python3"
  },
  "language_info": {
   "codemirror_mode": {
    "name": "ipython",
    "version": 3
   },
   "file_extension": ".py",
   "mimetype": "text/x-python",
   "name": "python",
   "nbconvert_exporter": "python",
   "pygments_lexer": "ipython3",
   "version": "3.8.6"
  },
  "toc": {
   "base_numbering": 1,
   "nav_menu": {},
   "number_sections": true,
   "sideBar": true,
   "skip_h1_title": false,
   "title_cell": "Table of Contents",
   "title_sidebar": "Contents",
   "toc_cell": false,
   "toc_position": {},
   "toc_section_display": true,
   "toc_window_display": false
  }
 },
 "nbformat": 4,
 "nbformat_minor": 4
}
